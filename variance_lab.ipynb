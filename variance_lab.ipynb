{
 "cells": [
  {
   "cell_type": "code",
   "execution_count": 9,
   "id": "494509be",
   "metadata": {},
   "outputs": [
    {
     "name": "stdout",
     "output_type": "stream",
     "text": [
      "10\n",
      "Mean is:  2.0\n",
      "Variance is:  0.6666666666666666\n"
     ]
    }
   ],
   "source": [
    "# for x in data:\n",
    "#     vari += (s-mean)**2\n",
    "\n",
    "print(sum([1,2 ,3 ,4]))\n",
    "def variance(data):\n",
    "    \n",
    "    mean = sum(data)/len(data)\n",
    "    print(\"Mean is: \", mean)\n",
    "    var_sum = sum([(x-mean)**2 for x in data])\n",
    "        \n",
    "    return var_sum/len(data)\n",
    "    \n",
    "    \n",
    "    \n",
    "data = [1, 2, 3]\n",
    "print(\"Variance is: \",variance(data))"
   ]
  },
  {
   "cell_type": "code",
   "execution_count": 16,
   "id": "76155b10",
   "metadata": {},
   "outputs": [
    {
     "name": "stdout",
     "output_type": "stream",
     "text": [
      "Covariance is =  1.52\n"
     ]
    }
   ],
   "source": [
    "import numpy as np\n",
    "\n",
    "def covariance(x, y):\n",
    "    n = len(x)\n",
    "    \n",
    "    meanx = sum(x)/n\n",
    "    meany = sum(y)/n\n",
    "    \n",
    "    cov = sum((x[i]-meanx)*(y[i]-meany) for i in range(n))/n\n",
    "    return cov\n",
    "    \n",
    "    \n",
    "x = [1, 2, 3, 4, 9]\n",
    "y = [5, 6, 7, 8, 7]\n",
    "co_var = covariance(x, y)\n",
    "print(\"Covariance is = \", co_var)"
   ]
  },
  {
   "cell_type": "code",
   "execution_count": 4,
   "id": "15789723",
   "metadata": {},
   "outputs": [
    {
     "name": "stdout",
     "output_type": "stream",
     "text": [
      "2.5\n"
     ]
    }
   ],
   "source": []
  }
 ],
 "metadata": {
  "kernelspec": {
   "display_name": "Python 3 (ipykernel)",
   "language": "python",
   "name": "python3"
  },
  "language_info": {
   "codemirror_mode": {
    "name": "ipython",
    "version": 3
   },
   "file_extension": ".py",
   "mimetype": "text/x-python",
   "name": "python",
   "nbconvert_exporter": "python",
   "pygments_lexer": "ipython3",
   "version": "3.10.9"
  }
 },
 "nbformat": 4,
 "nbformat_minor": 5
}
