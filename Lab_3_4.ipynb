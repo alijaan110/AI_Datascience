{
 "cells": [
  {
   "cell_type": "code",
   "execution_count": 1,
   "id": "45ad1495",
   "metadata": {},
   "outputs": [
    {
     "name": "stdout",
     "output_type": "stream",
     "text": [
      "Enter a number: 5\n",
      "Enter a number: 1\n",
      "Enter a number: 2\n",
      "Enter a number: 3\n",
      "Enter a number: 4\n",
      "Enter a number: 5\n",
      "The total sum of input numbers is:  15\n",
      "The smallest value of entered numbers is:  5\n"
     ]
    }
   ],
   "source": [
    "user_input = int(input(\"Enter a number: \"))\n",
    "minVal = user_input\n",
    "total_sum = 0\n",
    "for i in range(user_input):\n",
    "    user_input = int(input(\"Enter a number: \"))\n",
    "    total_sum += user_input\n",
    "    \n",
    "    if minVal > user_input:\n",
    "        minVal == user_input\n",
    "print(\"The total sum of input numbers is: \", total_sum)\n",
    "print(\"The smallest value of entered numbers is: \", minVal)\n",
    "\n"
   ]
  },
  {
   "cell_type": "markdown",
   "id": "ad9afd26",
   "metadata": {},
   "source": [
    "# Lists\n",
    "    -array\n",
    "    append()/Insert()\n",
    "    pop()/remove()\n",
    "    "
   ]
  },
  {
   "cell_type": "code",
   "execution_count": 3,
   "id": "699210bc",
   "metadata": {},
   "outputs": [
    {
     "name": "stdout",
     "output_type": "stream",
     "text": [
      "1 Enter your Name\n",
      "2 Enter your Name\n",
      "3 Enter your Name\n",
      "4 Enter your Name\n",
      "5 Enter your Name\n",
      "6 Enter your Name\n",
      "7 Enter your Name\n",
      "8 Enter your Name\n",
      "9 Enter your Name\n",
      "10 Enter your Name\n",
      "11 Enter your Name\n",
      "12 Enter your Name\n",
      "13 Enter your Name\n",
      "14 Enter your Name\n",
      "15 Enter your Name\n",
      "16 Enter your Name\n",
      "17 Enter your Name\n",
      "18 Enter your Name\n",
      "19 Enter your Name\n",
      "20 Enter your Name\n",
      "21 Enter your Name\n",
      "22 Enter your Name\n",
      "23 Enter your Name\n",
      "24 Enter your Name\n",
      "25 Enter your Name\n",
      "26 Enter your Name\n",
      "27 Enter your Name\n",
      "28 Enter your Name\n",
      "29 Enter your Name\n",
      "30 Enter your Name\n",
      "31 Enter your Name\n",
      "32 Enter your Name\n",
      "33 Enter your Name\n",
      "34 Enter your Name\n",
      "35 Enter your Name\n",
      "36 Enter your Name\n",
      "37 Enter your Name\n",
      "38 Enter your Name\n",
      "39 Enter your Name\n",
      "40 Enter your Name\n",
      "41 Enter your Name\n",
      "42 Enter your Name\n",
      "43 Enter your Name\n",
      "44 Enter your Name\n",
      "45 Enter your Name\n",
      "46 Enter your Name\n",
      "47 Enter your Name\n",
      "48 Enter your Name\n",
      "49 Enter your Name\n",
      "50 Enter your Name\n",
      "51 Enter your Name\n",
      "52 Enter your Name\n",
      "53 Enter your Name\n",
      "54 Enter your Name\n",
      "55 Enter your Name\n",
      "56 Enter your Name\n",
      "57 Enter your Name\n",
      "58 Enter your Name\n",
      "59 Enter your Name\n",
      "60 Enter your Name\n",
      "61 Enter your Name\n",
      "62 Enter your Name\n",
      "63 Enter your Name\n",
      "64 Enter your Name\n",
      "65 Enter your Name\n",
      "66 Enter your Name\n",
      "67 Enter your Name\n",
      "68 Enter your Name\n",
      "69 Enter your Name\n",
      "70 Enter your Name\n",
      "71 Enter your Name\n",
      "72 Enter your Name\n",
      "73 Enter your Name\n",
      "74 Enter your Name\n",
      "75 Enter your Name\n",
      "76 Enter your Name\n",
      "77 Enter your Name\n",
      "78 Enter your Name\n",
      "79 Enter your Name\n",
      "80 Enter your Name\n",
      "81 Enter your Name\n",
      "82 Enter your Name\n",
      "83 Enter your Name\n",
      "84 Enter your Name\n",
      "85 Enter your Name\n",
      "86 Enter your Name\n",
      "87 Enter your Name\n",
      "88 Enter your Name\n",
      "89 Enter your Name\n",
      "90 Enter your Name\n",
      "91 Enter your Name\n",
      "92 Enter your Name\n",
      "93 Enter your Name\n",
      "94 Enter your Name\n",
      "95 Enter your Name\n",
      "96 Enter your Name\n",
      "97 Enter your Name\n",
      "98 Enter your Name\n",
      "99 Enter your Name\n",
      "100 Enter your Name\n"
     ]
    }
   ],
   "source": [
    "#Q7\n",
    "for i in range(100):\n",
    "    print(i+1, \"Enter your Name\")\n"
   ]
  },
  {
   "cell_type": "code",
   "execution_count": 32,
   "id": "6485785a",
   "metadata": {},
   "outputs": [
    {
     "name": "stdout",
     "output_type": "stream",
     "text": [
      "['Noman', 'yawar']\n",
      "['Noman', 'Jan']\n",
      "['Apple', 'Banana', 'mango', 'pine apple', 'cherry']\n",
      "['Ali', 'Abbas', 'Noman', 'Jan', 'Ahmad', 'yawar']\n",
      "['Ali', 'Abbas', 'Noman', 'Ahmad', 'yawar']\n",
      "['Apple', 'mango', 'pine apple', 'cherry']\n"
     ]
    }
   ],
   "source": [
    "\n",
    "list_1 = [\"Ali\", \"Noman\", \"Jan\", \"Ahmad\", \"yawar\"]\n",
    "list2 = [\"Apple\", \"Banana\", \"mango\", \"pine apple\"]\n",
    "print(list_1[1::3])\n",
    "print(list_1[1:3])\n",
    "list2.append(\"cherry\")\n",
    "print(list2)\n",
    "list_1.insert(1, \"Abbas\")\n",
    "print(list_1)\n",
    "\n",
    "list_1.remove(\"Jan\")\n",
    "print(list_1)\n",
    "list2.pop(1)\n",
    "print(list2)"
   ]
  },
  {
   "cell_type": "code",
   "execution_count": 35,
   "id": "93432216",
   "metadata": {},
   "outputs": [
    {
     "name": "stdout",
     "output_type": "stream",
     "text": [
      "('a', 'b', 'c', 'd', 'e')\n"
     ]
    },
    {
     "ename": "AttributeError",
     "evalue": "'tuple' object has no attribute 'append'",
     "output_type": "error",
     "traceback": [
      "\u001b[1;31m---------------------------------------------------------------------------\u001b[0m",
      "\u001b[1;31mAttributeError\u001b[0m                            Traceback (most recent call last)",
      "Cell \u001b[1;32mIn[35], line 5\u001b[0m\n\u001b[0;32m      1\u001b[0m tuple1 \u001b[38;5;241m=\u001b[39m (\u001b[38;5;124m\"\u001b[39m\u001b[38;5;124ma\u001b[39m\u001b[38;5;124m\"\u001b[39m, \u001b[38;5;124m\"\u001b[39m\u001b[38;5;124mb\u001b[39m\u001b[38;5;124m\"\u001b[39m, \u001b[38;5;124m\"\u001b[39m\u001b[38;5;124mc\u001b[39m\u001b[38;5;124m\"\u001b[39m, \u001b[38;5;124m\"\u001b[39m\u001b[38;5;124md\u001b[39m\u001b[38;5;124m\"\u001b[39m, \u001b[38;5;124m\"\u001b[39m\u001b[38;5;124me\u001b[39m\u001b[38;5;124m\"\u001b[39m)\n\u001b[0;32m      3\u001b[0m \u001b[38;5;28mprint\u001b[39m(tuple1)\n\u001b[1;32m----> 5\u001b[0m \u001b[43mtuple1\u001b[49m\u001b[38;5;241;43m.\u001b[39;49m\u001b[43mappend\u001b[49m(\u001b[38;5;124m\"\u001b[39m\u001b[38;5;124mf\u001b[39m\u001b[38;5;124m\"\u001b[39m)\n\u001b[0;32m      6\u001b[0m \u001b[38;5;28mprint\u001b[39m(tuple1)\n",
      "\u001b[1;31mAttributeError\u001b[0m: 'tuple' object has no attribute 'append'"
     ]
    }
   ],
   "source": [
    "tuple1 = (\"a\", \"b\", \"c\", \"d\", \"e\")\n",
    "\n",
    "print(tuple1)\n",
    "\n",
    "tuple1.append(\"f\")\n",
    "print(tuple1)"
   ]
  },
  {
   "cell_type": "code",
   "execution_count": 7,
   "id": "18c3d983",
   "metadata": {},
   "outputs": [
    {
     "data": {
      "text/plain": [
       "['Ali', 'Noman', 'Jan', 'Noman']"
      ]
     },
     "execution_count": 7,
     "metadata": {},
     "output_type": "execute_result"
    }
   ],
   "source": [
    "# #ist_1[1]\n",
    "# list_1[1:3]\n",
    "# list_1[0::2]\n",
    "# list_1[::-1]\n",
    "# list_1[::]\n",
    "#indexing"
   ]
  },
  {
   "cell_type": "code",
   "execution_count": 20,
   "id": "45626b2e",
   "metadata": {},
   "outputs": [
    {
     "data": {
      "text/plain": [
       "['Ali', 'Noman', 'Jan', 'Ahmad', 'Ali', 'Noman', 'Jan', 'Ahmad']"
      ]
     },
     "execution_count": 20,
     "metadata": {},
     "output_type": "execute_result"
    }
   ],
   "source": [
    "list_1 = [\"Ali\", \"Noman\", \"Jan\", \"Ahmad\"]\n",
    "list2 = [\"Ali\", \"Noman\", \"Jan\", \"Ahmad\"]\n",
    "list_1.extend(list2)\n",
    "list_1\n"
   ]
  },
  {
   "cell_type": "code",
   "execution_count": 21,
   "id": "82971ac8",
   "metadata": {},
   "outputs": [
    {
     "name": "stdout",
     "output_type": "stream",
     "text": [
      "('a', 'b', 'c')\n"
     ]
    }
   ],
   "source": [
    "thistuple = (\"a\", \"b\", \"c\")\n",
    "print(thistuple)"
   ]
  },
  {
   "cell_type": "code",
   "execution_count": 26,
   "id": "e9473534",
   "metadata": {},
   "outputs": [
    {
     "data": {
      "text/plain": [
       "{'key': 'val', 'ALi': 'Ahmad'}"
      ]
     },
     "execution_count": 26,
     "metadata": {},
     "output_type": "execute_result"
    }
   ],
   "source": [
    "dict1= {\"key\": \"val\", \"ALi\": \"Ahmad\" }\n",
    "dict1"
   ]
  },
  {
   "cell_type": "code",
   "execution_count": 35,
   "id": "cbcfeb50",
   "metadata": {},
   "outputs": [
    {
     "data": {
      "text/plain": [
       "'Ahmad'"
      ]
     },
     "execution_count": 35,
     "metadata": {},
     "output_type": "execute_result"
    }
   ],
   "source": [
    "dict2 = {\"Ali\" : \"Ahmad\", \"Muhammad\" : \"khan\"}\n",
    "dict2[\"Ali\"]"
   ]
  },
  {
   "cell_type": "code",
   "execution_count": 37,
   "id": "1a7572bb",
   "metadata": {},
   "outputs": [
    {
     "ename": "SyntaxError",
     "evalue": "invalid syntax (3160217865.py, line 1)",
     "output_type": "error",
     "traceback": [
      "\u001b[1;36m  Cell \u001b[1;32mIn[37], line 1\u001b[1;36m\u001b[0m\n\u001b[1;33m    dict2.update(\"shan\" : \"shahid\")\u001b[0m\n\u001b[1;37m                        ^\u001b[0m\n\u001b[1;31mSyntaxError\u001b[0m\u001b[1;31m:\u001b[0m invalid syntax\n"
     ]
    }
   ],
   "source": [
    "dict2.update(\"shan\" : \"shahid\")\n",
    "dict2\n",
    "#incredible"
   ]
  },
  {
   "cell_type": "code",
   "execution_count": 41,
   "id": "fad8ab6a",
   "metadata": {},
   "outputs": [
    {
     "name": "stdout",
     "output_type": "stream",
     "text": [
      "Ali last name\n",
      "Noman last name\n",
      "Jan last name\n",
      "Ahmad last name\n"
     ]
    }
   ],
   "source": [
    "list_of_users = [\"Ali\", \"Noman\", \"Jan\", \"Ahmad\"]\n",
    "for user in list_of_users:\n",
    "    user = user +\" last name\"\n",
    "    print(user)"
   ]
  },
  {
   "cell_type": "code",
   "execution_count": 43,
   "id": "69b2d6e3",
   "metadata": {},
   "outputs": [
    {
     "name": "stdout",
     "output_type": "stream",
     "text": [
      "3\n",
      "4\n",
      "5\n",
      "6\n",
      "7\n",
      "8\n",
      "9\n"
     ]
    }
   ],
   "source": [
    "for i in range(3, 10):\n",
    "    print(i)\n"
   ]
  },
  {
   "cell_type": "code",
   "execution_count": 49,
   "id": "78a3b230",
   "metadata": {},
   "outputs": [
    {
     "name": "stdout",
     "output_type": "stream",
     "text": [
      "10\n",
      "9\n",
      "8\n",
      "7\n",
      "6\n"
     ]
    }
   ],
   "source": [
    "# for i in range(3,2, 10):\n",
    "#     print(i)\n",
    "\n",
    "i= 10\n",
    "while i>5:\n",
    "    print(i)\n",
    "    i=i-1\n",
    "    \n",
    "\n"
   ]
  },
  {
   "cell_type": "code",
   "execution_count": 5,
   "id": "86fdd2bc",
   "metadata": {},
   "outputs": [
    {
     "name": "stdout",
     "output_type": "stream",
     "text": [
      "[11]\n",
      "[11, 14]\n",
      "[11, 14, 14]\n",
      "[11, 14, 14, 16]\n",
      "[11, 14, 14, 16, 18]\n"
     ]
    }
   ],
   "source": [
    "age= [12, 15, 15, 17, 19]\n",
    "newage = []\n",
    "for i in age:\n",
    "    newage.append(i-1)\n",
    "    print(newage)"
   ]
  },
  {
   "cell_type": "markdown",
   "id": "378de694",
   "metadata": {},
   "source": [
    "user_input= int(input(\"enter number\"))\n",
    "list_of_num = []\n",
    "last_new_num = 0\n",
    "for i in range(user_input):\n",
    "    new_num = int(input(\"Enter val no\" + str(i+1) + \":\"))\n",
    "    list_of_num.append(new_num)\n",
    "print(list_of_num)\n",
    "print(min())"
   ]
  },
  {
   "cell_type": "markdown",
   "id": "b3dcf18c",
   "metadata": {},
   "source": [
    "list_of_num = []\n",
    "for i in range(5):\n",
    "    last_num = int(input(\"Enter val no\" + str(i+1) + \":\"))\n",
    "    list_of_num.append(last_num)\n",
    "    if i==0:\n",
    "        min_val = last_num\n",
    "    else:\n",
    "        min_val= min(min_val, last_val)\n",
    "print(min_val)"
   ]
  },
  {
   "cell_type": "code",
   "execution_count": 64,
   "id": "b041e63f",
   "metadata": {},
   "outputs": [
    {
     "name": "stdout",
     "output_type": "stream",
     "text": [
      "********************\n",
      "********************\n",
      "********************\n",
      "********************\n"
     ]
    }
   ],
   "source": [
    "#  Q#11\n",
    "\n",
    "n = 4\n",
    "for i in range(n):\n",
    "    for j in range(20):\n",
    "        print(\"*\" , end = \"\")\n",
    "    print()"
   ]
  }
 ],
 "metadata": {
  "kernelspec": {
   "display_name": "Python 3 (ipykernel)",
   "language": "python",
   "name": "python3"
  },
  "language_info": {
   "codemirror_mode": {
    "name": "ipython",
    "version": 3
   },
   "file_extension": ".py",
   "mimetype": "text/x-python",
   "name": "python",
   "nbconvert_exporter": "python",
   "pygments_lexer": "ipython3",
   "version": "3.10.9"
  }
 },
 "nbformat": 4,
 "nbformat_minor": 5
}
