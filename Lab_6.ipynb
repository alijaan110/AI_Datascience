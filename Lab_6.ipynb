{
 "cells": [
  {
   "cell_type": "markdown",
   "id": "a20ec7ba",
   "metadata": {},
   "source": [
    "# Task 1\n",
    "Write a Python class called Rectangle that has attributes length and width. Implement\n",
    "methods to calculate the area and perimeter of the rectangle."
   ]
  },
  {
   "cell_type": "code",
   "execution_count": 3,
   "id": "6b8d9a84",
   "metadata": {},
   "outputs": [
    {
     "name": "stdout",
     "output_type": "stream",
     "text": [
      "Enter the length of the rectangle: 10\n",
      "Enter the width of the rectangle: 5\n",
      "\n",
      "The area of the rectangle is 50.0m. \n",
      "\n",
      "The perimeter of the rectangle is 30.0.\n"
     ]
    }
   ],
   "source": [
    "class Rectangle:\n",
    "    def __init__(self, length, width):\n",
    "        self.length = length\n",
    "        self.width = width\n",
    "    \n",
    "    def calculate_area(self):\n",
    "        return self.length * self.width\n",
    "    \n",
    "    def calculate_perimeter(self):\n",
    "        return 2 * (self.length + self.width)\n",
    "\n",
    "length = float(input(\"Enter the length of the rectangle: \"))\n",
    "width = float(input(\"Enter the width of the rectangle: \"))\n",
    "\n",
    "rectangle = Rectangle(length, width)\n",
    "area = rectangle.calculate_area()\n",
    "perimeter = rectangle.calculate_perimeter()\n",
    "print()\n",
    "print(f\"The area of the rectangle is {area}. \\n\")\n",
    "print(f\"The perimeter of the rectangle is {perimeter}.\")\n"
   ]
  },
  {
   "cell_type": "markdown",
   "id": "f7fbad48",
   "metadata": {},
   "source": [
    "# Task 2\n",
    "Create a class hierarchy in Python consisting of a base class called Animal, and derived\n",
    "classes Dog, Cat, and Bird. Each derived class should have its unique method. Instantiate\n",
    "objects of each class and demonstrate polymorphism by calling a common method on\n",
    "each object.\n"
   ]
  },
  {
   "cell_type": "code",
   "execution_count": 7,
   "id": "8337a797",
   "metadata": {},
   "outputs": [
    {
     "name": "stdout",
     "output_type": "stream",
     "text": [
      "Dog says Woof!\n",
      "Cat says Meow!\n",
      "Bird says Chirp!\n"
     ]
    }
   ],
   "source": [
    "class Animal:\n",
    "    def __init__(self, name):\n",
    "        self.name = name\n",
    "    \n",
    "    def make_sound(self):\n",
    "        pass\n",
    "\n",
    "class Dog(Animal):\n",
    "    def make_sound(self):\n",
    "        return \"Woof!\"\n",
    "\n",
    "    def fetch_ball(self):\n",
    "        return \"Dog fetched the ball.\"\n",
    "\n",
    "class Cat(Animal):\n",
    "    def make_sound(self):\n",
    "        return \"Meow!\"\n",
    "\n",
    "    def chase_mouse(self):\n",
    "        return \"Cat chased the mouse.\"\n",
    "\n",
    "class Bird(Animal):\n",
    "    def make_sound(self):\n",
    "        return \"Chirp!\"\n",
    "\n",
    "    def fly(self):\n",
    "        return \"Bird is flying.\"\n",
    "\n",
    "dog = Dog(\"Dog\")\n",
    "cat = Cat(\"Cat\")\n",
    "bird = Bird(\"Bird\")\n",
    "\n",
    "animals = [dog, cat, bird]\n",
    "for animal in animals:\n",
    "    print(f\"{animal.name} says {animal.make_sound()}\")\n"
   ]
  },
  {
   "cell_type": "markdown",
   "id": "adc28dda",
   "metadata": {},
   "source": [
    "# Task 3\n",
    "Write a Python class called Shape with a method area() that returns the area of the\n",
    "shape. Create two subclasses, Rectangle and Circle, each overriding the area() method to\n",
    "7calculate the area of the specific shape. Instantiate objects of each class and display\n",
    "their areas."
   ]
  },
  {
   "cell_type": "code",
   "execution_count": 12,
   "id": "4bbeea3f",
   "metadata": {},
   "outputs": [
    {
     "name": "stdout",
     "output_type": "stream",
     "text": [
      "Enter the length of the rectangle: 14\n",
      "Enter the width of the rectangle: 5\n",
      "Enter the radius of the circle: 5\n",
      "\n",
      "The area of the rectangle is: 70.0\n",
      "The area of the circle is: 78.53981633974483\n"
     ]
    }
   ],
   "source": [
    "class Shape:\n",
    "    def area(self):\n",
    "        pass\n",
    "\n",
    "class Rectangle(Shape):\n",
    "    def __init__(self, length, width):\n",
    "        self.length = length\n",
    "        self.width = width\n",
    "\n",
    "    def area(self):\n",
    "        return self.length * self.width\n",
    "\n",
    "class Circle(Shape):\n",
    "    def __init__(self, radius):\n",
    "        self.radius = radius\n",
    "\n",
    "    def area(self):\n",
    "        return math.pi * self.radius**2\n",
    "\n",
    "length = float(input(\"Enter the length of the rectangle: \"))\n",
    "width = float(input(\"Enter the width of the rectangle: \"))\n",
    "\n",
    "radius = float(input(\"Enter the radius of the circle: \"))\n",
    "\n",
    "rectangle = Rectangle(length, width)\n",
    "circle = Circle(radius)\n",
    "\n",
    "rectangle_area = rectangle.area()\n",
    "circle_area = circle.area()\n",
    "print()\n",
    "print(f\"The area of the rectangle is: {rectangle_area}\")\n",
    "print(f\"The area of the circle is: {circle_area}\")\n",
    "\n"
   ]
  },
  {
   "cell_type": "code",
   "execution_count": null,
   "id": "9625457c",
   "metadata": {},
   "outputs": [],
   "source": []
  }
 ],
 "metadata": {
  "kernelspec": {
   "display_name": "Python 3 (ipykernel)",
   "language": "python",
   "name": "python3"
  },
  "language_info": {
   "codemirror_mode": {
    "name": "ipython",
    "version": 3
   },
   "file_extension": ".py",
   "mimetype": "text/x-python",
   "name": "python",
   "nbconvert_exporter": "python",
   "pygments_lexer": "ipython3",
   "version": "3.10.9"
  }
 },
 "nbformat": 4,
 "nbformat_minor": 5
}
