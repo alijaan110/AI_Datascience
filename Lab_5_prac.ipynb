{
 "cells": [
  {
   "cell_type": "markdown",
   "id": "640b751e",
   "metadata": {},
   "source": [
    "\n",
    "    "
   ]
  },
  {
   "cell_type": "code",
   "execution_count": 6,
   "id": "3bac6c18",
   "metadata": {
    "scrolled": true
   },
   "outputs": [
    {
     "name": "stdout",
     "output_type": "stream",
     "text": [
      "Enter text: HELLO WORLD\n",
      "\n",
      "HELLO WORLD is convert to HELLO WORLD\n",
      "HELLO WORLD is convert to hello world\n"
     ]
    }
   ],
   "source": [
    "    text = str(input(\"Enter text: \"))\n",
    "    print()\n",
    "    upper_case = text.upper()\n",
    "    print(f\"{text} is convert to {upper_case}\")\n",
    "    \n",
    "    lower_case = text.lower()\n",
    "    print(f\"{text} is convert to {lower_case}\")"
   ]
  },
  {
   "cell_type": "code",
   "execution_count": 7,
   "id": "8d4949a4",
   "metadata": {},
   "outputs": [
    {
     "name": "stdout",
     "output_type": "stream",
     "text": [
      "Accuracy: 0.7835820895522388\n"
     ]
    }
   ],
   "source": [
    "import numpy as np\n",
    "import pandas as pd\n",
    "from sklearn.model_selection import train_test_split\n",
    "from sklearn.metrics import accuracy_score\n",
    "from sklearn.tree import DecisionTreeClassifier\n",
    "\n",
    "# Read data from the csv file\n",
    "df = pd.read_csv(\"C:\\\\Users\\\\DELL\\\\Desktop\\\\DSAI\\\\titanic_clean.csv\")\n",
    "\n",
    "# Data cleaning and preprocessing\n",
    "## Convert categorical variable to one-hot vectors\n",
    "df_OneHot = pd.get_dummies(df, columns=['Pclass', 'Sex', 'Embarked', 'Title', 'GrpSize', 'FareCat', 'AgeCat'])\n",
    "df = df_OneHot\n",
    "# Remove label and extra features\n",
    "X = df.drop(['Survived','PassengerId'],axis=1)\n",
    "# Target/prediction variable\n",
    "Y = df['Survived']\n",
    "\n",
    "# Split data to train and test-set\n",
    "xtrain,xtest,ytrain,ytest=train_test_split(X,Y,test_size=0.3, random_state=100,shuffle=True)\n",
    "\n",
    "# Train the model\n",
    "clf_dt = DecisionTreeClassifier(criterion='gini')\n",
    "clf_dt.fit(xtrain, ytrain)\n",
    "\n",
    "\n",
    "# Get predictions for testset\n",
    "dt_pred = clf_dt.predict(xtest)\n",
    "dt_pred_prb = clf_dt.predict_proba(xtest)[:, 1]\n",
    "\n",
    "# Calculate accuracy\n",
    "accuracy_dt = accuracy_score(ytest,dt_pred)\n",
    "print(\"Accuracy: {}\".format(accuracy_dt))\n"
   ]
  }
 ],
 "metadata": {
  "kernelspec": {
   "display_name": "Python 3 (ipykernel)",
   "language": "python",
   "name": "python3"
  },
  "language_info": {
   "codemirror_mode": {
    "name": "ipython",
    "version": 3
   },
   "file_extension": ".py",
   "mimetype": "text/x-python",
   "name": "python",
   "nbconvert_exporter": "python",
   "pygments_lexer": "ipython3",
   "version": "3.10.9"
  }
 },
 "nbformat": 4,
 "nbformat_minor": 5
}
