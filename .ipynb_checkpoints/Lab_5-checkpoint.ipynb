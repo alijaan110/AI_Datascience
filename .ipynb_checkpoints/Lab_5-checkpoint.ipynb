{
 "cells": [
  {
   "cell_type": "markdown",
   "id": "ac8388d5",
   "metadata": {},
   "source": [
    "# Task 1\n",
    "Write a program that inputs a line of text. Output the text in uppercase letters and in\n",
    "lowercase letters using built-in functions.\n"
   ]
  },
  {
   "cell_type": "code",
   "execution_count": 10,
   "id": "5127754d",
   "metadata": {},
   "outputs": [
    {
     "name": "stdout",
     "output_type": "stream",
     "text": [
      "Enter text: ali jaanM\n",
      "1\n",
      "ali jaanM is convert to ALI JAANM\n",
      "ali jaanM is convert to ali jaanm\n"
     ]
    }
   ],
   "source": [
    "text = str(input(\"Enter text: \"))\n",
    "print(x)\n",
    "upper_case = text.upper()\n",
    "print(f\"{text} is convert to {upper_case}\")\n",
    "    \n",
    "lower_case = text.lower()\n",
    "print(f\"{text} is convert to {lower_case}\")"
   ]
  },
  {
   "cell_type": "markdown",
   "id": "967f2377",
   "metadata": {},
   "source": [
    "# Task 2\n",
    "A simple way to estimate the number of words in a string is to count the number of\n",
    "spaces in the string. Write a program that asks the user for a string and returns an\n",
    "estimate of how many words are in the string"
   ]
  },
  {
   "cell_type": "code",
   "execution_count": 12,
   "id": "929b7afa",
   "metadata": {},
   "outputs": [
    {
     "name": "stdout",
     "output_type": "stream",
     "text": [
      "Enter a string to count the number of words: im ali jan\n",
      "\n",
      "The total words are =  3\n"
     ]
    }
   ],
   "source": [
    "string = input(\"Enter a string to count the number of words: \")\n",
    "x = string.count(' ')+1\n",
    "print(\"\\nThe total words are = \", x)"
   ]
  },
  {
   "cell_type": "markdown",
   "id": "5a278562",
   "metadata": {},
   "source": [
    "# Task 3\n",
    "Write a program that asks the user to enter a string s and then converts s to lowercase,\n",
    "removes all the periods and commas from s, and prints the resulting string."
   ]
  },
  {
   "cell_type": "code",
   "execution_count": 13,
   "id": "1c9b00cb",
   "metadata": {},
   "outputs": [
    {
     "name": "stdout",
     "output_type": "stream",
     "text": [
      "Enter a Text: hello, World.\n",
      "hello world\n"
     ]
    }
   ],
   "source": [
    "s = input(\"Enter a Text: \")\n",
    "s = s.lower()\n",
    "s = s.replace(\".\", \"\").replace(\",\", \"\")\n",
    "print(s)"
   ]
  },
  {
   "cell_type": "markdown",
   "id": "f04c1a40",
   "metadata": {},
   "source": [
    "# Task 4\n",
    "A variable ids refers to the list [4353, 2314, 2956, 3382, 9362, 3900]. Using list\n",
    "methods, do the following:\n",
    "a. Remove 3382 from the list.\n",
    "b. Get the index of 9362.\n",
    "c. Insert 4499 in the list after 9362.\n",
    "d. Extend the list by adding [5566, 1830] to it.\n",
    "e. Reverse the list.\n",
    "f. Sort the list."
   ]
  },
  {
   "cell_type": "code",
   "execution_count": 42,
   "id": "87736bc6",
   "metadata": {},
   "outputs": [
    {
     "name": "stdout",
     "output_type": "stream",
     "text": [
      "Removing 3382 from list and now  [4353, 2314, 2956, 9362, 3900]\n",
      "\n",
      "The index of 9362 is:  3\n",
      "\n",
      "Insert 4499 in the list after 9362 :  [4353, 2314, 2956, 9362, 4499, 3900]\n",
      "\n",
      "Extending list [5566, 1830] in :  [5566, 1830, 4353, 2314, 2956, 9362, 4499, 3900]\n",
      "\n",
      "Reverse list :  [3900, 4499, 9362, 2956, 2314, 4353, 1830, 5566]\n",
      "\n",
      "Sort of list is:  [1830, 2314, 2956, 3900, 4353, 4499, 5566, 9362]\n"
     ]
    }
   ],
   "source": [
    "ids =  [4353, 2314, 2956, 3382, 9362, 3900]\n",
    "#a\n",
    "ids.remove(3382)\n",
    "print(\"Removing 3382 from list and now \", ids)\n",
    "\n",
    "#b\n",
    "index = ids.index(9362)\n",
    "print(\"\\nThe index of 9362 is: \",index)\n",
    "# c\n",
    "ids.insert(4, 4499)\n",
    "print(\"\\nInsert 4499 in the list after 9362 : \", ids)\n",
    "# d\n",
    "list2 =  [5566, 1830]\n",
    "list2.extend(ids)\n",
    "print(\"\\nExtending list [5566, 1830] in : \", list2)\n",
    "# e\n",
    "list2.reverse()\n",
    "print(\"\\nReverse list : \", list2)\n",
    "# f\n",
    "list2.sort()\n",
    "print(\"\\nSort of list is: \", list2)"
   ]
  },
  {
   "cell_type": "markdown",
   "id": "f0424d5b",
   "metadata": {},
   "source": [
    "# Task 5\n",
    "When playing games where you have to roll two dice, it is nice to know the odds of each\n",
    "roll. For instance, the odds of rolling a 12 are about 3%, and the odds of rolling a 7 are\n",
    "about 17%. You can compute these mathematically, but if you don’t know the math, you\n",
    "can write a program to do it. To do this, your program should simulate rolling two dice\n",
    "about 10,000 times and compute and print out the percentage of rolls that come out to\n",
    "be 2, 3, 4, . . . , 12. Print the results in a table format.\n"
   ]
  },
  {
   "cell_type": "code",
   "execution_count": 14,
   "id": "228298f0",
   "metadata": {},
   "outputs": [
    {
     "name": "stdout",
     "output_type": "stream",
     "text": [
      "The percentage of 2 to 12 is following:\n",
      "\n",
      "The percentage of  2 is = 2.65 %\n",
      "The percentage of  3 is = 5.5 %\n",
      "The percentage of  4 is = 8.74 %\n",
      "The percentage of  5 is = 11.700000000000001 %\n",
      "The percentage of  6 is = 13.459999999999999 %\n",
      "The percentage of  7 is = 16.32 %\n",
      "The percentage of  8 is = 13.950000000000001 %\n",
      "The percentage of  9 is = 11.42 %\n",
      "The percentage of  10 is = 8.15 %\n",
      "The percentage of  11 is = 5.140000000000001 %\n",
      "The percentage of  12 is = 2.96 %\n"
     ]
    }
   ],
   "source": [
    "list_1 = []\n",
    "import random\n",
    "\n",
    "for i in range(1, 10000):\n",
    "    dice1= random.randint(1, 6)\n",
    "    dice2= random.randint(1, 6)\n",
    "    sum = dice1+ dice2\n",
    "    list_1.append(sum)\n",
    "print(\"The percentage of 2 to 12 is following:\")\n",
    "print()\n",
    "for j in range(2, 13):\n",
    "    print(\"The percentage of \",j, \"is =\", list_1.count(j)/10000*100,\"%\")"
   ]
  },
  {
   "cell_type": "markdown",
   "id": "c17e6ed1",
   "metadata": {},
   "source": [
    "# Task 6\n",
    "Write a function each for mean, median and mode that accepts a list as an argument.\n",
    "The mean, median, and mode functions return an integer\n",
    "\n",
    "a. Using these functions, write a program that generates a 99-element list of\n",
    "random numbers between 1 and 100 (inclusive) and computes its mean, median,\n",
    "mode.\n"
   ]
  },
  {
   "cell_type": "code",
   "execution_count": 16,
   "id": "241560de",
   "metadata": {},
   "outputs": [
    {
     "name": "stdout",
     "output_type": "stream",
     "text": [
      "Mean value is =  54.333333333333336\n",
      "Median value is =  57.0\n",
      "Mode value is =  ModeResult(mode=array([57]), count=array([4]))\n"
     ]
    },
    {
     "name": "stderr",
     "output_type": "stream",
     "text": [
      "C:\\Users\\DELL\\AppData\\Local\\Temp\\ipykernel_8376\\2664688423.py:13: FutureWarning: Unlike other reduction functions (e.g. `skew`, `kurtosis`), the default behavior of `mode` typically preserves the axis it acts along. In SciPy 1.11.0, this behavior will change: the default value of `keepdims` will become False, the `axis` over which the statistic is taken will be eliminated, and the value None will no longer be accepted. Set `keepdims` to True or False to avoid this warning.\n",
      "  z = st.mode(arg)\n"
     ]
    }
   ],
   "source": [
    "import numpy as np\n",
    "from scipy import stats as st\n",
    "import random\n",
    "def mean(arg):\n",
    "    x = np.mean(arg)\n",
    "    return x\n",
    "\n",
    "def median(arg):\n",
    "    y = np.median(arg)\n",
    "    return y\n",
    "\n",
    "def mode(arg):\n",
    "    z = st.mode(arg)\n",
    "    return z\n",
    "\n",
    "num = np.random.randint(1, 100, 99)\n",
    "\n",
    "print(\"Mean value is = \", mean(num))\n",
    "print(\"Median value is = \", median(num))\n",
    "print(\"Mode value is = \", mode(num))"
   ]
  },
  {
   "cell_type": "markdown",
   "id": "68f69c54",
   "metadata": {},
   "source": [
    "# Task 7\n",
    "\n",
    "Write a program that rotates the elements of a list so that the element at the first index\n",
    "moves to the second index, the element in the second index moves to the third index,\n",
    "etc., and the element in the last index moves to the first index."
   ]
  },
  {
   "cell_type": "code",
   "execution_count": null,
   "id": "55a651b9",
   "metadata": {},
   "outputs": [],
   "source": [
    "def reverse_list(lst):\n",
    "    if len(lst) <= 1:\n",
    "        return lst\n",
    "\n",
    "    rev = [0] * len(lst)\n",
    "    for i in range(len(lst)):\n",
    "        rev[(i+1) % len(lst)] = lst[i]\n",
    "\n",
    "    return rev\n",
    "\n",
    "user_list = [1, 2, 3, 4, 5,7,8,9,10]\n",
    "reverse_list = reverse_list(user_list)\n",
    "print(reverse_list)"
   ]
  },
  {
   "cell_type": "markdown",
   "id": "b3da33b1",
   "metadata": {},
   "source": [
    "# Task 8\n",
    "Write a program that generates 100 random integers that are either 0 or 1. Then find the longest\n",
    "run of zeros, the largest number of zeros in a row. For instance, the longest run of zeros in\n",
    "[1,0,1,1,0,0,0,0,1,0,0] is 4.\n"
   ]
  },
  {
   "cell_type": "code",
   "execution_count": 17,
   "id": "7c2a1887",
   "metadata": {},
   "outputs": [
    {
     "name": "stdout",
     "output_type": "stream",
     "text": [
      "Random 0s and 1s: [1 1 0 0 0 1 1 1 0 0 1 0 0 1 1 0 0 1 1 0 1 0 1 0 1 0 1 1 0 1 0 1 0 0 0 1 1\n",
      " 1 0 1 1 0 0 0 0 1 0 1 0 0 1 1 0 0 0 0 1 1 1 0 1 0 1 1 1 1 1 1 0 0 0 0 0 1\n",
      " 0 0 1 0 1 1 1 0 1 0 0 0 1 1 1 0 0 0 0 0 1 0 0 0 1 0] \n",
      "\n",
      "Longest Run of Zeros: 5\n"
     ]
    }
   ],
   "source": [
    "import random\n",
    "numbers = np.random.randint(0, 2, 100)\n",
    "\n",
    "maxzeros = 0\n",
    "currentzeros = 0\n",
    "\n",
    "for num in numbers:\n",
    "    if num == 0:\n",
    "        currentzeros += 1\n",
    "        maxzeros = max(maxzeros, currentzeros)\n",
    "    else:\n",
    "        currentzeros = 0\n",
    "\n",
    "print(\"Random 0s and 1s:\", numbers , \"\\n\")\n",
    "print(\"Longest Run of Zeros:\", maxzeros)\n"
   ]
  },
  {
   "cell_type": "markdown",
   "id": "3b78563c",
   "metadata": {},
   "source": [
    "# Task 9\n",
    "Read the size of the matrix from the user. Populate it with data from the user. Print the\n",
    "original ,transpose and product of the matrices on the screen."
   ]
  },
  {
   "cell_type": "code",
   "execution_count": 18,
   "id": "d1229ade",
   "metadata": {},
   "outputs": [
    {
     "name": "stdout",
     "output_type": "stream",
     "text": [
      "Enter the number of rows in the matrix: 2\n",
      "Enter the number of columns in the matrix: 2\n",
      "Enter the elements of the matrix:\n",
      "Enter element at position (1, 1): 1\n",
      "Enter element at position (1, 2): 2\n",
      "Enter element at position (2, 1): 3\n",
      "Enter element at position (2, 2): 4\n",
      "Original Matrix:  [[1, 2], [3, 4]] \n",
      "\n",
      "Transpose:  [[1 3]\n",
      " [2 4]] \n",
      "\n",
      "Dot Product of transpose and Original Matrix [[ 5 11]\n",
      " [11 25]]\n"
     ]
    }
   ],
   "source": [
    "import pandas as pd\n",
    "rows = int(input(\"Enter the number of rows in the matrix: \"))\n",
    "cols = int(input(\"Enter the number of columns in the matrix: \"))\n",
    "\n",
    "\n",
    "matrix = [[0] * cols for _ in range(rows)]\n",
    "#print(matrix)\n",
    "\n",
    "print(\"Enter the elements of the matrix:\")\n",
    "for i in range(rows):\n",
    "    for j in range(cols):\n",
    "        matrix[i][j] = int(input(f\"Enter element at position ({i+1}, {j+1}): \"))\n",
    "transpose = np.transpose(matrix)\n",
    "dpro = np.dot(matrix, transpose)\n",
    "print(\"Original Matrix: \", matrix, \"\\n\")\n",
    "print(\"Transpose: \",transpose, \"\\n\")\n",
    "print(\"Dot Product of transpose and Original Matrix\", dpro)"
   ]
  },
  {
   "cell_type": "code",
   "execution_count": null,
   "id": "6df64ed4",
   "metadata": {},
   "outputs": [],
   "source": []
  }
 ],
 "metadata": {
  "kernelspec": {
   "display_name": "Python 3 (ipykernel)",
   "language": "python",
   "name": "python3"
  },
  "language_info": {
   "codemirror_mode": {
    "name": "ipython",
    "version": 3
   },
   "file_extension": ".py",
   "mimetype": "text/x-python",
   "name": "python",
   "nbconvert_exporter": "python",
   "pygments_lexer": "ipython3",
   "version": "3.10.9"
  }
 },
 "nbformat": 4,
 "nbformat_minor": 5
}
