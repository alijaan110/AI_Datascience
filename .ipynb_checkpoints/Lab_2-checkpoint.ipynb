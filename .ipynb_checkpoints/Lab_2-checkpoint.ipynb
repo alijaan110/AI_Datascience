{
 "cells": [
  {
   "cell_type": "markdown",
   "id": "e444e417",
   "metadata": {},
   "source": [
    "# Lab 2 Task"
   ]
  },
  {
   "cell_type": "code",
   "execution_count": 12,
   "id": "8ca5758c",
   "metadata": {},
   "outputs": [
    {
     "name": "stdout",
     "output_type": "stream",
     "text": [
      "48\n",
      "8\n",
      "64\n",
      "5\n",
      "7.5\n"
     ]
    }
   ],
   "source": [
    "n= 6*------8\n",
    "print(n)\n",
    "\n",
    "#print(8= people)\n",
    "#SyntaxError: cannot assign to literal here, we cannot assign values in int.\n",
    "people= 8\n",
    "print(people)\n",
    "\n",
    "print(((((4**3)))))\n",
    "\n",
    "print((-(-(-(-5)))))\n",
    "\n",
    "#print(4+=7/2)\n",
    "#SyntaxError: Invalid syntax\n",
    "print(4+7/2)"
   ]
  },
  {
   "cell_type": "code",
   "execution_count": 36,
   "id": "aa9b4503",
   "metadata": {},
   "outputs": [
    {
     "name": "stdout",
     "output_type": "stream",
     "text": [
      "number square cube\n",
      "0 \t 0 \t 0\n",
      "1 \t 1 \t 1\n",
      "2 \t 4 \t 8\n",
      "3 \t 9 \t 27\n",
      "4 \t 16 \t 64\n",
      "5 \t 25 \t 125\n",
      "6 \t 36 \t 216\n",
      "7 \t 49 \t 343\n",
      "8 \t 64 \t 512\n",
      "9 \t 81 \t 729\n",
      "10 \t 100 \t 1000\n"
     ]
    }
   ],
   "source": [
    "\n",
    "\n",
    "print(\"number\", \"square\", \"cube\")\n",
    "print(0,\"\\t\", 0**2,\"\\t\", 0**3)\n",
    "print(1,\"\\t\", 1**2,\"\\t\", 1**3)\n",
    "print(2,\"\\t\", 2**2,\"\\t\", 2**3)\n",
    "print(3,\"\\t\", 3**2,\"\\t\", 3**3)\n",
    "print(4,\"\\t\", 4**2,\"\\t\", 4**3)\n",
    "print(5,\"\\t\", 5**2,\"\\t\", 5**3)\n",
    "print(6,\"\\t\", 6**2,\"\\t\", 6**3)\n",
    "print(7,\"\\t\", 7**2,\"\\t\", 7**3)\n",
    "print(8,\"\\t\", 8**2,\"\\t\", 8**3)\n",
    "print(9,\"\\t\", 9**2,\"\\t\", 9**3)\n",
    "print(10,\"\\t\", 10**2,\"\\t\", 10**3)\n"
   ]
  },
  {
   "cell_type": "code",
   "execution_count": 85,
   "id": "7581c2a8",
   "metadata": {},
   "outputs": [
    {
     "name": "stdout",
     "output_type": "stream",
     "text": [
      "Before swapping\n",
      "\n",
      "First Value= 5\n",
      "Second Value= 15\n",
      "\n",
      "After swapping\n",
      "\n",
      "First Value= 15\n",
      "Second Value= 5\n"
     ]
    }
   ],
   "source": [
    "#Swapping Values\n",
    "\n",
    "var1= 5\n",
    "var2= 15\n",
    "print(\"Before swapping\")\n",
    "print(\"\\nFirst Value= \" + str(var1))\n",
    "print( \"Second Value= \" + str(var2))\n",
    "\n",
    "print(\"\\nAfter swapping\")\n",
    "var3= var1\n",
    "var1= var2\n",
    "var2= var3\n",
    "\n",
    "print(\"\\nFirst Value= \" + str(var1))\n",
    "print( \"Second Value= \" + str(var2))"
   ]
  },
  {
   "cell_type": "markdown",
   "id": "95a2dd48",
   "metadata": {},
   "source": [
    "# Variables and python inputs"
   ]
  },
  {
   "cell_type": "code",
   "execution_count": 4,
   "id": "2d823ad3",
   "metadata": {},
   "outputs": [
    {
     "name": "stdout",
     "output_type": "stream",
     "text": [
      "Enter a five digit number: 12345\n",
      "Original number is:  12345\n",
      "Reverse number is:  54321\n"
     ]
    }
   ],
   "source": [
    "#Reverse \n",
    "\n",
    "user_input = int(input(\"Enter a five digit number: \"))\n",
    "\n",
    "num= user_input\n",
    "\n",
    "a = num % 10\n",
    "num = num // 10\n",
    "\n",
    "b = num % 10\n",
    "num = num // 10\n",
    "\n",
    "c = num % 10\n",
    "num = num // 10\n",
    "\n",
    "d = num % 10\n",
    "e = num//10\n",
    "\n",
    "rev = 10000*a + 1000*b + 100*c + 10*d + e\n",
    "\n",
    "print(\"Original number is: \", user_input)\n",
    "print(\"Reverse number is: \", rev)\n"
   ]
  },
  {
   "cell_type": "code",
   "execution_count": 87,
   "id": "6df061c9",
   "metadata": {},
   "outputs": [
    {
     "name": "stdout",
     "output_type": "stream",
     "text": [
      "**********\n",
      "*        *\n",
      "*        *\n",
      "*        *\n",
      "*        *\n",
      "*        *\n",
      "*        *\n",
      "**********\n",
      "    ***    \n",
      "  *      *\n",
      "*          *\n",
      "*          *\n",
      "*          *\n",
      "*          *\n",
      "*          *\n",
      "  *      *\n",
      "    ***    \n",
      "    *\n",
      "   ***\n",
      "  *****\n",
      "    *\n",
      "    *\n",
      "    *\n",
      "    *\n",
      "    *\n",
      "    *\n",
      "     *\n",
      "    * *\n",
      "   *   *\n",
      "  *     *\n",
      " *       *\n",
      "*         *\n",
      " *       *\n",
      "  *     *\n",
      "   *   *\n",
      "    * *\n",
      "     *\n"
     ]
    }
   ],
   "source": [
    "x= \"*\"\n",
    "y= \" \"\n",
    "print(x*10)\n",
    "print(x,y*6,x)\n",
    "print(x,y*6,x)\n",
    "print(x,y*6,x)\n",
    "print(x,y*6,x)\n",
    "print(x,y*6,x)\n",
    "print(x,y*6,x)\n",
    "print(x*10)\n",
    "\n",
    "print(y*3, x*3, y*3)\n",
    "print(y, x, y*4, x,)\n",
    "print(x, y*8, x)\n",
    "print(x, y*8, x)\n",
    "print(x, y*8, x)\n",
    "print(x, y*8, x)\n",
    "print(x, y*8, x)\n",
    "print(y, x, y*4, x,)\n",
    "print(y*3, x*3, y*3)\n",
    "\n",
    "print(y*3,x)\n",
    "print(y*2,x*3)\n",
    "print(y*1,x*5)\n",
    "print(y*3, x)\n",
    "print(y*3, x)\n",
    "print(y*3, x)\n",
    "print(y*3, x)\n",
    "print(y*3, x)\n",
    "print(y*3, x)\n",
    "\n",
    "print(y*5+ x)\n",
    "print(y*4 + x + y + x )\n",
    "print(y*3 + x + y*3 + x )\n",
    "print(y*2 + x + y*5 + x )\n",
    "print(y*1 + x + y*7 + x )\n",
    "print(y*0 + x + y*9 + x )\n",
    "print(y*1 + x + y*7 + x )\n",
    "print(y*2 + x + y*5 + x )\n",
    "print(y*3 + x + y*3 + x )\n",
    "print(y*4 + x + y + x )\n",
    "print(y*5+ x)\n",
    "\n"
   ]
  },
  {
   "cell_type": "code",
   "execution_count": 1,
   "id": "539acc3c",
   "metadata": {},
   "outputs": [
    {
     "name": "stdout",
     "output_type": "stream",
     "text": [
      "Ist number: 5\n",
      "2nd number: 4\n",
      "3rd number: 3\n",
      "The three integers are the sides of a right triangle\n"
     ]
    }
   ],
   "source": [
    "#SIdes of right angle triangle\n",
    "\n",
    "h= int(input(\"Ist number: \"))\n",
    "b= int(input(\"2nd number: \"))\n",
    "p= int(input(\"3rd number: \"))\n",
    "\n",
    "if (h**2) == (b**2 + p**2) :\n",
    "    print(\"The three integers are the sides of a right triangle\")\n",
    "else: \n",
    "    print(\"The three integers are not the sides of a right triangle\")"
   ]
  },
  {
   "cell_type": "code",
   "execution_count": 17,
   "id": "33dfe02f",
   "metadata": {},
   "outputs": [
    {
     "name": "stdout",
     "output_type": "stream",
     "text": [
      "Enter a number: abc\n",
      "Invaild Number\n"
     ]
    }
   ],
   "source": [
    "#Grade and score Question\n",
    "\n",
    "user_input = input(\"Enter a number: \")\n",
    "try:\n",
    "    score= float(user_input)\n",
    "    \n",
    "    if score >= 0.9 and score > 1:\n",
    "        print(\"Grade A\")\n",
    "    elif score >= 0.8 and score > 0.9:\n",
    "        print(\"Grade B\")\n",
    "    elif score >= 0.7 and score > 0.8:\n",
    "        print(\"Grade C\")\n",
    "    elif score >= 0.6 and score > 0.7:\n",
    "        print(\"Grade D\")\n",
    "    else:\n",
    "        print(\"Grade F\")\n",
    "    \n",
    "except:\n",
    "    print(\"Invaild Number\")\n"
   ]
  },
  {
   "cell_type": "markdown",
   "id": "0fc86dc1",
   "metadata": {},
   "source": [
    "# BONUS QUESTIONS "
   ]
  },
  {
   "cell_type": "code",
   "execution_count": 31,
   "id": "9b29f2ec",
   "metadata": {},
   "outputs": [
    {
     "name": "stdout",
     "output_type": "stream",
     "text": [
      "Enter a five digit number: 11211\n",
      "11211  is a palindrome\n"
     ]
    }
   ],
   "source": [
    "user_input = int(input(\"Enter a five digit number: \"))\n",
    "\n",
    "num= user_input\n",
    "\n",
    "a = num % 10\n",
    "num = num // 10\n",
    "\n",
    "b = num % 10\n",
    "num = num // 10\n",
    "\n",
    "c = num % 10\n",
    "num = num // 10\n",
    "\n",
    "d = num % 10\n",
    "e = num//10\n",
    "\n",
    "rev = 10000*a + 1000*b + 100*c + 10*d + e\n",
    "\n",
    "if user_input == rev :\n",
    "    print(user_input ,\" is a palindrome\")\n",
    "else:\n",
    "    print(user_input,\" is not a palindrome\")\n"
   ]
  }
 ],
 "metadata": {
  "kernelspec": {
   "display_name": "Python 3 (ipykernel)",
   "language": "python",
   "name": "python3"
  },
  "language_info": {
   "codemirror_mode": {
    "name": "ipython",
    "version": 3
   },
   "file_extension": ".py",
   "mimetype": "text/x-python",
   "name": "python",
   "nbconvert_exporter": "python",
   "pygments_lexer": "ipython3",
   "version": "3.10.9"
  }
 },
 "nbformat": 4,
 "nbformat_minor": 5
}
