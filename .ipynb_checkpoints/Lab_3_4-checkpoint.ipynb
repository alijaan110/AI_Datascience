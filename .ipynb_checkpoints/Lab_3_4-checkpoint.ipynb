{
 "cells": [
  {
   "cell_type": "code",
   "execution_count": 2,
   "id": "6485785a",
   "metadata": {},
   "outputs": [],
   "source": [
    "list_1 = [\"Ali\", \"Noman\", \"Jan\", \"Ahmad\"]\n",
    "list2 = [\"Ali\", \"Noman\", \"Jan\", \"Ahmad\"]"
   ]
  },
  {
   "cell_type": "code",
   "execution_count": 7,
   "id": "18c3d983",
   "metadata": {},
   "outputs": [
    {
     "data": {
      "text/plain": [
       "['Ali', 'Noman', 'Jan', 'Noman']"
      ]
     },
     "execution_count": 7,
     "metadata": {},
     "output_type": "execute_result"
    }
   ],
   "source": [
    "# #ist_1[1]\n",
    "# list_1[1:3]\n",
    "# list_1[0::2]\n",
    "# list_1[::-1]\n",
    "# list_1[::]\n",
    "#indexing"
   ]
  },
  {
   "cell_type": "code",
   "execution_count": 20,
   "id": "45626b2e",
   "metadata": {},
   "outputs": [
    {
     "data": {
      "text/plain": [
       "['Ali', 'Noman', 'Jan', 'Ahmad', 'Ali', 'Noman', 'Jan', 'Ahmad']"
      ]
     },
     "execution_count": 20,
     "metadata": {},
     "output_type": "execute_result"
    }
   ],
   "source": [
    "list_1 = [\"Ali\", \"Noman\", \"Jan\", \"Ahmad\"]\n",
    "list2 = [\"Ali\", \"Noman\", \"Jan\", \"Ahmad\"]\n",
    "list_1.extend(list2)\n",
    "list_1\n"
   ]
  },
  {
   "cell_type": "code",
   "execution_count": 21,
   "id": "82971ac8",
   "metadata": {},
   "outputs": [
    {
     "name": "stdout",
     "output_type": "stream",
     "text": [
      "('a', 'b', 'c')\n"
     ]
    }
   ],
   "source": [
    "thistuple = (\"a\", \"b\", \"c\")\n",
    "print(thistuple)"
   ]
  },
  {
   "cell_type": "code",
   "execution_count": 26,
   "id": "e9473534",
   "metadata": {},
   "outputs": [
    {
     "data": {
      "text/plain": [
       "{'key': 'val', 'ALi': 'Ahmad'}"
      ]
     },
     "execution_count": 26,
     "metadata": {},
     "output_type": "execute_result"
    }
   ],
   "source": [
    "dict1= {\"key\": \"val\", \"ALi\": \"Ahmad\" }\n",
    "dict1"
   ]
  },
  {
   "cell_type": "code",
   "execution_count": 35,
   "id": "cbcfeb50",
   "metadata": {},
   "outputs": [
    {
     "data": {
      "text/plain": [
       "'Ahmad'"
      ]
     },
     "execution_count": 35,
     "metadata": {},
     "output_type": "execute_result"
    }
   ],
   "source": [
    "dict2 = {\"Ali\" : \"Ahmad\", \"Muhammad\" : \"khan\"}\n",
    "dict2[\"Ali\"]"
   ]
  },
  {
   "cell_type": "code",
   "execution_count": 37,
   "id": "1a7572bb",
   "metadata": {},
   "outputs": [
    {
     "ename": "SyntaxError",
     "evalue": "invalid syntax (3160217865.py, line 1)",
     "output_type": "error",
     "traceback": [
      "\u001b[1;36m  Cell \u001b[1;32mIn[37], line 1\u001b[1;36m\u001b[0m\n\u001b[1;33m    dict2.update(\"shan\" : \"shahid\")\u001b[0m\n\u001b[1;37m                        ^\u001b[0m\n\u001b[1;31mSyntaxError\u001b[0m\u001b[1;31m:\u001b[0m invalid syntax\n"
     ]
    }
   ],
   "source": [
    "dict2.update(\"shan\" : \"shahid\")\n",
    "dict2\n",
    "#incredible"
   ]
  },
  {
   "cell_type": "code",
   "execution_count": 41,
   "id": "fad8ab6a",
   "metadata": {},
   "outputs": [
    {
     "name": "stdout",
     "output_type": "stream",
     "text": [
      "Ali last name\n",
      "Noman last name\n",
      "Jan last name\n",
      "Ahmad last name\n"
     ]
    }
   ],
   "source": [
    "list_of_users = [\"Ali\", \"Noman\", \"Jan\", \"Ahmad\"]\n",
    "for user in list_of_users:\n",
    "    user = user +\" last name\"\n",
    "    print(user)"
   ]
  },
  {
   "cell_type": "code",
   "execution_count": 43,
   "id": "69b2d6e3",
   "metadata": {},
   "outputs": [
    {
     "name": "stdout",
     "output_type": "stream",
     "text": [
      "3\n",
      "4\n",
      "5\n",
      "6\n",
      "7\n",
      "8\n",
      "9\n"
     ]
    }
   ],
   "source": [
    "for i in range(3, 10):\n",
    "    print(i)\n"
   ]
  },
  {
   "cell_type": "code",
   "execution_count": 49,
   "id": "78a3b230",
   "metadata": {},
   "outputs": [
    {
     "name": "stdout",
     "output_type": "stream",
     "text": [
      "10\n",
      "9\n",
      "8\n",
      "7\n",
      "6\n"
     ]
    }
   ],
   "source": [
    "# for i in range(3,2, 10):\n",
    "#     print(i)\n",
    "\n",
    "i= 10\n",
    "while i>5:\n",
    "    print(i)\n",
    "    i=i-1\n",
    "    \n",
    "\n"
   ]
  },
  {
   "cell_type": "code",
   "execution_count": 50,
   "id": "86fdd2bc",
   "metadata": {},
   "outputs": [
    {
     "name": "stdout",
     "output_type": "stream",
     "text": [
      "[11]\n",
      "[11, 14]\n",
      "[11, 14, 14]\n",
      "[11, 14, 14, 16]\n",
      "[11, 14, 14, 16, 18]\n"
     ]
    }
   ],
   "source": [
    "age= [12, 15, 15, 17, 19]\n",
    "newage = []\n",
    "for i in age:\n",
    "    newage.append(i-1)\n",
    "    print(newage)"
   ]
  },
  {
   "cell_type": "code",
   "execution_count": 51,
   "id": "07ef6501",
   "metadata": {},
   "outputs": [
    {
     "name": "stdout",
     "output_type": "stream",
     "text": [
      "enter number3\n",
      "Enter val no1:5\n",
      "Enter val no2:6\n",
      "Enter val no3:7\n",
      "[5, 6, 7]\n"
     ]
    }
   ],
   "source": [
    "user_input= int(input(\"enter number\"))\n",
    "list_of_num = []\n",
    "last_new_num = 0\n",
    "for i in range(user_input):\n",
    "    new_num = int(input(\"Enter val no\" + str(i+1) + \":\"))\n",
    "    list_of_num.append(new_num)\n",
    "print(list_of_num)\n",
    "print(min())"
   ]
  },
  {
   "cell_type": "code",
   "execution_count": null,
   "id": "fd969e2b",
   "metadata": {},
   "outputs": [],
   "source": [
    "\n",
    "list_of_num = []\n",
    "for i in range(list_of_num):\n",
    "    last_num = int(input(\"Enter val no\" + str(i+1) + \":\"))\n",
    "    if i==0:\n",
    "        min_val = last_num\n",
    "    else:\n",
    "        min_val= min(min_val, last_val)\n",
    "print(min_val)"
   ]
  }
 ],
 "metadata": {
  "kernelspec": {
   "display_name": "Python 3 (ipykernel)",
   "language": "python",
   "name": "python3"
  },
  "language_info": {
   "codemirror_mode": {
    "name": "ipython",
    "version": 3
   },
   "file_extension": ".py",
   "mimetype": "text/x-python",
   "name": "python",
   "nbconvert_exporter": "python",
   "pygments_lexer": "ipython3",
   "version": "3.10.9"
  }
 },
 "nbformat": 4,
 "nbformat_minor": 5
}
