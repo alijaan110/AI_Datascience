{
 "cells": [
  {
   "cell_type": "markdown",
   "id": "640b751e",
   "metadata": {},
   "source": [
    "\n",
    "    "
   ]
  },
  {
   "cell_type": "code",
   "execution_count": 5,
   "id": "313722ae",
   "metadata": {},
   "outputs": [
    {
     "name": "stdout",
     "output_type": "stream",
     "text": [
      "15\n"
     ]
    }
   ],
   "source": [
    "num = [1, 2, 3, 4, 5]\n",
    "total = 0\n",
    "for i in num:\n",
    "    total += i\n",
    "print(total)"
   ]
  },
  {
   "cell_type": "code",
   "execution_count": 8,
   "id": "4df16ba7",
   "metadata": {},
   "outputs": [
    {
     "name": "stdout",
     "output_type": "stream",
     "text": [
      "1 \t 1\n",
      "2 \t 4\n",
      "3 \t 9\n",
      "4 \t 16\n",
      "5 \t 25\n",
      "6 \t 36\n",
      "7 \t 49\n",
      "8 \t 64\n",
      "9 \t 81\n",
      "10 \t 100\n",
      "11 \t 121\n",
      "12 \t 144\n",
      "13 \t 169\n",
      "14 \t 196\n",
      "15 \t 225\n",
      "16 \t 256\n",
      "17 \t 289\n",
      "18 \t 324\n",
      "19 \t 361\n",
      "20 \t 400\n"
     ]
    }
   ],
   "source": [
    "for i in range(1 , 21):\n",
    "    print(i ,\"\\t\", i**2)"
   ]
  },
  {
   "cell_type": "code",
   "execution_count": null,
   "id": "4dace11d",
   "metadata": {},
   "outputs": [],
   "source": [
    "user_input = []\n",
    "for i in range(5)"
   ]
  },
  {
   "cell_type": "markdown",
   "id": "d6ff0321",
   "metadata": {},
   "source": [
    "# Functions"
   ]
  },
  {
   "cell_type": "code",
   "execution_count": 17,
   "id": "51e24a09",
   "metadata": {},
   "outputs": [
    {
     "name": "stdout",
     "output_type": "stream",
     "text": [
      "16\n",
      "1\n",
      "1\n",
      "98\n",
      "100\n"
     ]
    }
   ],
   "source": [
    "print(pow(2, 4))\n",
    "#pow(a,b) = a*b =power function\n",
    "print(pow(2,4,3))\n",
    "#pow(a, b, c) =a**b%c \n",
    "\n",
    "print(abs(-1))\n",
    "#Absalute function\n",
    "print(round(98.5))\n",
    "print(round(99.5))\n",
    "#help(abs)"
   ]
  },
  {
   "cell_type": "code",
   "execution_count": 26,
   "id": "4446e5b9",
   "metadata": {},
   "outputs": [
    {
     "name": "stdout",
     "output_type": "stream",
     "text": [
      "5.830951894845301\n"
     ]
    }
   ],
   "source": [
    "def pytho(a, b):\n",
    "    c = (a**2 + b**2)**0.5\n",
    "    \n",
    "    return c\n",
    "    \n",
    "y= pytho(3,5)\n",
    "\n",
    "print(y)\n",
    "    "
   ]
  },
  {
   "cell_type": "code",
   "execution_count": 1,
   "id": "f9c20fa7",
   "metadata": {},
   "outputs": [
    {
     "name": "stdout",
     "output_type": "stream",
     "text": [
      "The factorial of 5 is 120\n"
     ]
    }
   ],
   "source": [
    "def factorial(n):\n",
    "    if n == 0:\n",
    "        return 1\n",
    "    else:\n",
    "        return n * factorial(n - 1)\n",
    "    \n",
    "\n",
    "# Example usage\n",
    "number = 5\n",
    "result = factorial(number)\n",
    "print(f\"The factorial of {number} is {result}\")\n",
    "binom(n - 1, k - 1) + binom(n - 1, k)\n"
   ]
  },
  {
   "cell_type": "code",
   "execution_count": 10,
   "id": "31352e3a",
   "metadata": {},
   "outputs": [
    {
     "ename": "NameError",
     "evalue": "name 'z' is not defined",
     "output_type": "error",
     "traceback": [
      "\u001b[1;31m---------------------------------------------------------------------------\u001b[0m",
      "\u001b[1;31mNameError\u001b[0m                                 Traceback (most recent call last)",
      "Cell \u001b[1;32mIn[10], line 10\u001b[0m\n\u001b[0;32m      8\u001b[0m n \u001b[38;5;241m=\u001b[39m \u001b[38;5;241m5\u001b[39m\n\u001b[0;32m      9\u001b[0m k \u001b[38;5;241m=\u001b[39m \u001b[38;5;241m3\u001b[39m\n\u001b[1;32m---> 10\u001b[0m \u001b[38;5;28mprint\u001b[39m(\u001b[43mz\u001b[49m)\n\u001b[0;32m     11\u001b[0m result \u001b[38;5;241m=\u001b[39m binoml(n, k)\n\u001b[0;32m     12\u001b[0m \u001b[38;5;28mprint\u001b[39m(\u001b[38;5;124mf\u001b[39m\u001b[38;5;124m\"\u001b[39m\u001b[38;5;124mThe binomial coefficient of (\u001b[39m\u001b[38;5;132;01m{\u001b[39;00mn\u001b[38;5;132;01m}\u001b[39;00m\u001b[38;5;124m, \u001b[39m\u001b[38;5;132;01m{\u001b[39;00mk\u001b[38;5;132;01m}\u001b[39;00m\u001b[38;5;124m) is \u001b[39m\u001b[38;5;132;01m{\u001b[39;00mresult\u001b[38;5;132;01m}\u001b[39;00m\u001b[38;5;124m\"\u001b[39m)\n",
      "\u001b[1;31mNameError\u001b[0m: name 'z' is not defined"
     ]
    }
   ],
   "source": [
    "def binoml(n, k):\n",
    "    x = n-k\n",
    "    if k == 0 or k == n:\n",
    "        return 1\n",
    "   else :\n",
    "        print(z =(n * binoml(n - 1))/(k * binoml(k - 1))(x * binoml(x - 1)))\n",
    "# Example usage\n",
    "n = 5\n",
    "k = 3\n",
    "print(z)\n",
    "result = binoml(n, k)\n",
    "print(f\"The binomial coefficient of ({n}, {k}) is {result}\")\n"
   ]
  },
  {
   "cell_type": "code",
   "execution_count": 7,
   "id": "908fbf3c",
   "metadata": {},
   "outputs": [
    {
     "name": "stdout",
     "output_type": "stream",
     "text": [
      "The factorial of (n - k) = (8 - 3) is 120\n",
      "40320\n"
     ]
    }
   ],
   "source": [
    "def factorial(n):\n",
    "    if n == 0:\n",
    "        return 1\n",
    "    else:\n",
    "        return n * factorial(n - 1)\n",
    "\n",
    "def factorial_of_n_minus_k(n, k):\n",
    "    result = factorial(n - k)\n",
    "    return result\n",
    "\n",
    "# Example usage\n",
    "n = 8\n",
    "k = 3\n",
    "result = factorial_of_n_minus_k(n, k)\n",
    "print(f\"The factorial of (n - k) = ({n} - {k}) is {result}\")\n",
    "print(n*factorial(n-1))"
   ]
  },
  {
   "cell_type": "code",
   "execution_count": 61,
   "id": "f18c1f10",
   "metadata": {},
   "outputs": [
    {
     "name": "stdout",
     "output_type": "stream",
     "text": [
      "5\n",
      "4\n",
      "1\n"
     ]
    }
   ],
   "source": [
    "def binom(n, k):\n",
    "    for i in range(n):\n",
    "        n_fact = 1\n",
    "        n_fact = n*i\n",
    "    return n_fact\n",
    "    for j in range(k):\n",
    "        k_fact = k*j\n",
    "        return k_fact\n",
    "    x = n-k\n",
    "    for l in range(x):\n",
    "        x_fact= x*l\n",
    "        return(x_fact)\n",
    "    result= (n_fact)//(k_fact)*(x_fact)\n",
    "    return result\n",
    "n = int(input())\n",
    "k= int(input())\n",
    "print(n_fact)"
   ]
  },
  {
   "cell_type": "code",
   "execution_count": 19,
   "id": "bd99f888",
   "metadata": {},
   "outputs": [
    {
     "name": "stdout",
     "output_type": "stream",
     "text": [
      "6\n",
      "28\n",
      "496\n"
     ]
    }
   ],
   "source": [
    "import numpy as np\n",
    "def perfect(n):\n",
    "    factors = []\n",
    "    for i in range(1, n):\n",
    "        if n % i == 0:\n",
    "            factors.append(i)\n",
    "    if n == np.sum(factors):\n",
    "        result = True\n",
    "    else:\n",
    "        result = False\n",
    "    return result\n",
    "\n",
    "condition = True\n",
    "for i in range(1, 1001):\n",
    "    condition = perfect(i)\n",
    "    if condition == True:\n",
    "        print(i)"
   ]
  },
  {
   "cell_type": "code",
   "execution_count": null,
   "id": "6d942a24",
   "metadata": {},
   "outputs": [],
   "source": []
  }
 ],
 "metadata": {
  "kernelspec": {
   "display_name": "Python 3 (ipykernel)",
   "language": "python",
   "name": "python3"
  },
  "language_info": {
   "codemirror_mode": {
    "name": "ipython",
    "version": 3
   },
   "file_extension": ".py",
   "mimetype": "text/x-python",
   "name": "python",
   "nbconvert_exporter": "python",
   "pygments_lexer": "ipython3",
   "version": "3.10.9"
  }
 },
 "nbformat": 4,
 "nbformat_minor": 5
}
