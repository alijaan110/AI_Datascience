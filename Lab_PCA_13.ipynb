{
 "cells": [
  {
   "cell_type": "code",
   "execution_count": 1,
   "id": "9d47fa6e",
   "metadata": {},
   "outputs": [],
   "source": [
    "import numpy as np\n",
    "import pandas as np\n",
    "import seaborn as sns\n",
    "import matplotlib.pyplot as plt\n",
    "from sklearn.preprocessing import StandardScaler\n"
   ]
  },
  {
   "cell_type": "code",
   "execution_count": 10,
   "id": "e38a34d6",
   "metadata": {},
   "outputs": [
    {
     "name": "stdout",
     "output_type": "stream",
     "text": [
      "(150, 4)\n",
      "(150,)\n"
     ]
    }
   ],
   "source": [
    "from sklearn.datasets import load_iris\n",
    "\n",
    "#Load Dataset\n",
    "iris = load_iris()\n",
    "x, y = iris_data['data'], iris_data['target']\n",
    "\n",
    "print(x.shape)\n",
    "print(y.shape)\n"
   ]
  },
  {
   "cell_type": "code",
   "execution_count": 15,
   "id": "3753010c",
   "metadata": {},
   "outputs": [
    {
     "name": "stdout",
     "output_type": "stream",
     "text": [
      "Features names : ['sepal length (cm)', 'sepal width (cm)', 'petal length (cm)', 'petal width (cm)']\n",
      "Features size : (150, 4)\n",
      "Target names : ['setosa' 'versicolor' 'virginica']\n"
     ]
    },
    {
     "data": {
      "text/plain": [
       "(150, 2)"
      ]
     },
     "execution_count": 15,
     "metadata": {},
     "output_type": "execute_result"
    }
   ],
   "source": [
    "from sklearn.decomposition import PCA\n",
    "\n",
    "n_components = 2\n",
    "\n",
    "# Print details about the dataset\n",
    "print('Features names : '+str(iris.feature_names))\n",
    "print('Features size : '+str(iris.data.shape))\n",
    "print('Target names : '+str(iris.target_names))\n",
    "\n",
    "x, y= iris.data, iris.target\n",
    "\n",
    "# pca = decomposition.PCA(n_components)\n",
    "\n",
    "# pca.fit(x)\n",
    "\n",
    "# # Transforming iris data to new dimensions(with 2 features)\n",
    "# X_iris_pca = pca.transform(x)\n",
    "\n",
    "# # Printing new dataset\n",
    "# print('New Dataset size after transformations: ', X_iris_pca2.shape)\n",
    "\n",
    "scaler= StandardScaler()\n",
    "scaled_x = scaler.fit_transform(x)\n",
    "pca = PCA(n_components)\n",
    "new_x = pca.fit_transform(scaled_x)\n",
    "\n",
    "new_x.shape\n"
   ]
  }
 ],
 "metadata": {
  "kernelspec": {
   "display_name": "Python 3 (ipykernel)",
   "language": "python",
   "name": "python3"
  },
  "language_info": {
   "codemirror_mode": {
    "name": "ipython",
    "version": 3
   },
   "file_extension": ".py",
   "mimetype": "text/x-python",
   "name": "python",
   "nbconvert_exporter": "python",
   "pygments_lexer": "ipython3",
   "version": "3.10.9"
  }
 },
 "nbformat": 4,
 "nbformat_minor": 5
}
