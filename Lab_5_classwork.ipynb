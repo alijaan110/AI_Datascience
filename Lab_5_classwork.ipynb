{
 "cells": [
  {
   "cell_type": "code",
   "execution_count": 1,
   "id": "c9d612ca",
   "metadata": {},
   "outputs": [
    {
     "name": "stdout",
     "output_type": "stream",
     "text": [
      "[1, 2, 3, 4, 5, 6, 7, '3.24', 3.14, 2.7]\n",
      "[2, 3, 4, 'Ali Jan']\n",
      "4\n",
      "abdul\n",
      "Ali\n",
      "\n",
      "\n",
      "\n",
      "[1, 2, 3, 5, 8, 9]\n"
     ]
    }
   ],
   "source": [
    "lis = [1, 2, 3, 4, 5, 6, 7]\n",
    "#lis.clear()\n",
    "#print(lis)\n",
    "\n",
    "#print(lis.index(3))\n",
    "\n",
    "# lis.reverse()\n",
    "# print(lis)\n",
    "\n",
    "lis2 = [\"3.24\", 3.14, 2.7]\n",
    "\n",
    "lis.extend(lis2)\n",
    "print(lis)\n",
    "\n",
    "# 2.7 in lis2 \n",
    "\n",
    "# 3.14 in lis\n",
    "\n",
    "# a = \"Fatima\"\n",
    "# b = a\n",
    "# # b == a\n",
    "\n",
    "# id(a) for checking memory locations\n",
    "# id(b) if two attributes hvae same id location so there will true for is condition.\n",
    "# b is a\n",
    "\n",
    "lis3 = [1, [2, 3, 4, \"Ali Jan\"], 5, 6, \"abdullah\"]\n",
    "\n",
    "print(lis3[1])\n",
    "print(lis3[1][2])\n",
    "print(lis3[4][:5])\n",
    "print(lis3[1][3][:3])\n",
    "\n",
    "print()\n",
    "print()\n",
    "print()\n",
    "\n",
    "lis5 = [1,3, 5, 2, 8, 9]\n",
    "lis5.sort()\n",
    "print(lis5)"
   ]
  },
  {
   "cell_type": "code",
   "execution_count": 2,
   "id": "b57f22e7",
   "metadata": {},
   "outputs": [
    {
     "name": "stdout",
     "output_type": "stream",
     "text": [
      "i Khan\n",
      "KhanA\n"
     ]
    }
   ],
   "source": [
    "str1 = \"Ali Khan\"\n",
    "print(str1[2:])\n",
    "print(str1[-4:] +\"\" + str1[0])"
   ]
  },
  {
   "cell_type": "code",
   "execution_count": 43,
   "id": "d2eef0a9",
   "metadata": {},
   "outputs": [
    {
     "name": "stdout",
     "output_type": "stream",
     "text": [
      "Ali My name is Ahmad My name is Jan\n"
     ]
    }
   ],
   "source": [
    "lis6 = [\"Ali\", \"Ahmad\", \"Jan\"]\n",
    "names = \" My name is \".join(lis6)\n",
    "print(names)"
   ]
  },
  {
   "cell_type": "code",
   "execution_count": 53,
   "id": "bce52c86",
   "metadata": {},
   "outputs": [
    {
     "name": "stdout",
     "output_type": "stream",
     "text": [
      "The percentage of 2 to 12 is following:\n",
      "\n",
      "The percentage of  2 is = 2.82 %\n",
      "The percentage of  3 is = 6.1 %\n",
      "The percentage of  4 is = 8.53 %\n",
      "The percentage of  5 is = 10.68 %\n",
      "The percentage of  6 is = 13.66 %\n",
      "The percentage of  7 is = 16.97 %\n",
      "The percentage of  8 is = 13.59 %\n",
      "The percentage of  9 is = 10.59 %\n",
      "The percentage of  10 is = 8.75 %\n",
      "The percentage of  11 is = 5.7299999999999995 %\n",
      "The percentage of  12 is = 2.5700000000000003 %\n"
     ]
    }
   ],
   "source": [
    "#Q 6\n",
    "list_1 = []\n",
    "import random\n",
    "\n",
    "for i in range(1, 10000):\n",
    "    dice1= random.randint(1, 6)\n",
    "    dice2= random.randint(1, 6)\n",
    "    sum = dice1+ dice2\n",
    "    list_1.append(sum)\n",
    "print(\"The percentage of 2 to 12 is following:\")\n",
    "print()\n",
    "for j in range(2, 13):\n",
    "    print(\"The percentage of \",j, \"is =\", list_1.count(j)/10000*100,\"%\")"
   ]
  },
  {
   "cell_type": "code",
   "execution_count": 27,
   "id": "8c51437f",
   "metadata": {},
   "outputs": [
    {
     "name": "stdout",
     "output_type": "stream",
     "text": [
      "2[1, \n"
     ]
    }
   ],
   "source": [
    "l1 = [1,2,3,4,5]\n",
    "l1 = str(l1)\n",
    "print( l1[4]+l1[:4])"
   ]
  },
  {
   "cell_type": "code",
   "execution_count": 30,
   "id": "5cb89d2c",
   "metadata": {},
   "outputs": [
    {
     "name": "stdout",
     "output_type": "stream",
     "text": [
      "[10, 1, 2, 3, 4, 5, 7, 8, 9]\n"
     ]
    }
   ],
   "source": [
    "def reverse_list(lst):\n",
    "    if len(lst) <= 1:\n",
    "        return lst\n",
    "\n",
    "    rev = [0] * len(lst)\n",
    "    for i in range(len(lst)):\n",
    "        rev[(i+1) % len(lst)] = lst[i]\n",
    "\n",
    "    return rev\n",
    "\n",
    "user_list = [1, 2, 3, 4, 5,7,8,9,10]\n",
    "reverse_list = reverse_list(user_list)\n",
    "print(reverse_list)\n"
   ]
  }
 ],
 "metadata": {
  "kernelspec": {
   "display_name": "Python 3 (ipykernel)",
   "language": "python",
   "name": "python3"
  },
  "language_info": {
   "codemirror_mode": {
    "name": "ipython",
    "version": 3
   },
   "file_extension": ".py",
   "mimetype": "text/x-python",
   "name": "python",
   "nbconvert_exporter": "python",
   "pygments_lexer": "ipython3",
   "version": "3.10.9"
  }
 },
 "nbformat": 4,
 "nbformat_minor": 5
}
