{
 "cells": [
  {
   "cell_type": "markdown",
   "id": "2765ea45",
   "metadata": {},
   "source": [
    "# Task 1:\n",
    "enter the values as per the required number, calculate its sum and identify the smallest value among\n",
    "them. The sample output is as follow:"
   ]
  },
  {
   "cell_type": "code",
   "execution_count": 32,
   "id": "96f50379",
   "metadata": {},
   "outputs": [
    {
     "name": "stdout",
     "output_type": "stream",
     "text": [
      "Enter the values to be input: 3\n",
      "\n",
      "Enter the values: 1\n",
      "Enter the values: 2\n",
      "Enter the values: 3\n",
      "\n",
      "The total sum is:  6\n",
      "Minimum value is:  1\n"
     ]
    }
   ],
   "source": [
    "input_vals = int(input(\"Enter the values to be input: \"))\n",
    "print()\n",
    "n =[]\n",
    "sum= 0\n",
    "for i in range(input_vals):\n",
    "    total_num = int(input(\"Enter the values: \"))\n",
    "    n.append(total_num)\n",
    "    sum = sum+total_num\n",
    "print()\n",
    "print(\"The total sum is: \",sum)\n",
    "\n",
    "min_val = n[0]\n",
    "for j in n:\n",
    "    if j < min_val:\n",
    "        min_val = j\n",
    "print(\"Minimum value is: \",min_val)\n"
   ]
  },
  {
   "cell_type": "markdown",
   "id": "87d56bd3",
   "metadata": {},
   "source": [
    "# Task 2:\n",
    "The factorial function is used frequently in probability problems. The factorial of a positive\n",
    "integer n (written n! and pronounced “n factorial”) is equal to the product of the positive integers\n",
    "from 1 to n.\n",
    "Write a function factorial that accepts an integer as parameter and returns its factorial.\n",
    "Using the factorial function, write a program that evaluates the factorials of the integers from 1 to 5.\n",
    "Print the results in tabular format as following.\n"
   ]
  },
  {
   "cell_type": "code",
   "execution_count": 1,
   "id": "7bf37c55",
   "metadata": {},
   "outputs": [
    {
     "name": "stdout",
     "output_type": "stream",
     "text": [
      "x \t Factoial of x\n",
      "1 \t 1\n",
      "2 \t 2\n",
      "3 \t 6\n",
      "4 \t 24\n",
      "5 \t 120\n"
     ]
    }
   ],
   "source": [
    "#Question# 2\n",
    "\n",
    "list1 = [1, 2, 3, 4, 5]\n",
    "print(\"x\",\"\\t\", \"Factoial of x\")\n",
    "for i in list1:\n",
    "    fact = 1\n",
    "    for j in range(1, i+1):\n",
    "        fact = fact *j\n",
    "    print(i , \"\\t\", fact)"
   ]
  },
  {
   "cell_type": "markdown",
   "id": "13374daa",
   "metadata": {},
   "source": [
    "# Task 3:\n",
    "Write a program that plays an incredibly stupid number-guessing game. The user will try to\n",
    "guess the secret number until they get it right. That means it will keep looping as long as the guess is\n",
    "different from the secret number. You must store the secret number in a variable, and use that\n",
    "variable throughout. The secret number itself must not appear in the program at all, except in the\n",
    "one line where you store it into a variable. Sample output is as following:\n"
   ]
  },
  {
   "cell_type": "code",
   "execution_count": 3,
   "id": "695c15f5",
   "metadata": {},
   "outputs": [
    {
     "name": "stdout",
     "output_type": "stream",
     "text": [
      "Choose a number between 1-10. Try to guess it.\n",
      "Your guess: 4\n",
      "That is incorrect. Guess again.\n"
     ]
    }
   ],
   "source": [
    "#Guess Question\n",
    "\n",
    "print(\"Choose a number between 1-10. Try to guess it.\")\n",
    "\n",
    "guess_num = int(input(\"Your guess: \"))\n",
    "x = 6\n",
    "\n",
    "if x == guess_num:\n",
    "        print(\"That's correct. You guessed it.\")\n",
    "elif guess_num > 10:\n",
    "    print(\"Choose a number from 1-10\")\n",
    "else:\n",
    "        print(\"That is incorrect. Guess again.\")"
   ]
  },
  {
   "cell_type": "markdown",
   "id": "e312cdc4",
   "metadata": {},
   "source": [
    "# Task 4:\n",
    "The greatest common divisor (GCD) of two integers is the largest integer that evenly\n",
    "divides each of the two numbers. Write function gcd that returns the greatest common divisor of\n",
    "two integers.\n",
    "Use the gcd function in your program to determine the GCD of the numbers in the sample output:"
   ]
  },
  {
   "cell_type": "code",
   "execution_count": null,
   "id": "4dd787a5",
   "metadata": {},
   "outputs": [],
   "source": [
    "#GCD Question\n",
    "\n",
    "def GCD(x, y):\n",
    " \n",
    "    if x > y:\n",
    "        small = y\n",
    "    else:\n",
    "        small = x\n",
    "    for i in range(1, small + 1):\n",
    "        if((x % i == 0) and (y % i == 0)):\n",
    "            gcd = i\n",
    "             \n",
    "    return gcd\n",
    " \n",
    "x = int(input(\"Enter first number : \"))\n",
    "y = int(input(\"Enter second number : \"))\n",
    "\n",
    "print (\"The GCD of\", x, \"and\" ,y,\"is : \", end=\"\")\n",
    "print (GCD(x, y))"
   ]
  },
  {
   "cell_type": "markdown",
   "id": "23fb1fc5",
   "metadata": {},
   "source": [
    "# Task 5:\n",
    "An integer is said to be prime if it is divisible only by 1 and itself. For example, 2, 3, 5 and 7\n",
    "are prime, but 4, 6, 8 and 9 are not.\n",
    "a) Write a function that determines if a number is prime.\n",
    "b) Use this function in a program that determines and prints all the prime numbers between 1 and\n",
    "10,000."
   ]
  },
  {
   "cell_type": "code",
   "execution_count": 19,
   "id": "8eb262f5",
   "metadata": {},
   "outputs": [
    {
     "name": "stdout",
     "output_type": "stream",
     "text": [
      "1 2 3 5 7 11 13 17 19 23 29 31 37 41 43 47 53 59 61 67 71 73 79 83 89 97 101 103 107 109 113 127 131 137 139 149 151 157 163 167 173 179 181 191 193 197 199 211 223 227 229 233 239 241 251 257 263 269 271 277 281 283 293 307 311 313 317 331 337 347 349 353 359 367 373 379 383 389 397 401 409 419 421 431 433 439 443 449 457 461 463 467 479 487 491 499 503 509 521 523 541 547 557 563 569 571 577 587 593 599 601 607 613 617 619 631 641 643 647 653 659 661 673 677 683 691 701 709 719 727 733 739 743 751 757 761 769 773 787 797 809 811 821 823 827 829 839 853 857 859 863 877 881 883 887 907 911 919 929 937 941 947 953 967 971 977 983 991 997 1009 1013 1019 1021 1031 1033 1039 1049 1051 1061 1063 1069 1087 1091 1093 1097 1103 1109 1117 1123 1129 1151 1153 1163 1171 1181 1187 1193 1201 1213 1217 1223 1229 1231 1237 1249 1259 1277 1279 1283 1289 1291 1297 1301 1303 1307 1319 1321 1327 1361 1367 1373 1381 1399 1409 1423 1427 1429 1433 1439 1447 1451 1453 1459 1471 1481 1483 1487 1489 1493 1499 1511 1523 1531 1543 1549 1553 1559 1567 1571 1579 1583 1597 1601 1607 1609 1613 1619 1621 1627 1637 1657 1663 1667 1669 1693 1697 1699 1709 1721 1723 1733 1741 1747 1753 1759 1777 1783 1787 1789 1801 1811 1823 1831 1847 1861 1867 1871 1873 1877 1879 1889 1901 1907 1913 1931 1933 1949 1951 1973 1979 1987 1993 1997 1999 2003 2011 2017 2027 2029 2039 2053 2063 2069 2081 2083 2087 2089 2099 2111 2113 2129 2131 2137 2141 2143 2153 2161 2179 2203 2207 2213 2221 2237 2239 2243 2251 2267 2269 2273 2281 2287 2293 2297 2309 2311 2333 2339 2341 2347 2351 2357 2371 2377 2381 2383 2389 2393 2399 2411 2417 2423 2437 2441 2447 2459 2467 2473 2477 2503 2521 2531 2539 2543 2549 2551 2557 2579 2591 2593 2609 2617 2621 2633 2647 2657 2659 2663 2671 2677 2683 2687 2689 2693 2699 2707 2711 2713 2719 2729 2731 2741 2749 2753 2767 2777 2789 2791 2797 2801 2803 2819 2833 2837 2843 2851 2857 2861 2879 2887 2897 2903 2909 2917 2927 2939 2953 2957 2963 2969 2971 2999 3001 3011 3019 3023 3037 3041 3049 3061 3067 3079 3083 3089 3109 3119 3121 3137 3163 3167 3169 3181 3187 3191 3203 3209 3217 3221 3229 3251 3253 3257 3259 3271 3299 3301 3307 3313 3319 3323 3329 3331 3343 3347 3359 3361 3371 3373 3389 3391 3407 3413 3433 3449 3457 3461 3463 3467 3469 3491 3499 3511 3517 3527 3529 3533 3539 3541 3547 3557 3559 3571 3581 3583 3593 3607 3613 3617 3623 3631 3637 3643 3659 3671 3673 3677 3691 3697 3701 3709 3719 3727 3733 3739 3761 3767 3769 3779 3793 3797 3803 3821 3823 3833 3847 3851 3853 3863 3877 3881 3889 3907 3911 3917 3919 3923 3929 3931 3943 3947 3967 3989 4001 4003 4007 4013 4019 4021 4027 4049 4051 4057 4073 4079 4091 4093 4099 4111 4127 4129 4133 4139 4153 4157 4159 4177 4201 4211 4217 4219 4229 4231 4241 4243 4253 4259 4261 4271 4273 4283 4289 4297 4327 4337 4339 4349 4357 4363 4373 4391 4397 4409 4421 4423 4441 4447 4451 4457 4463 4481 4483 4493 4507 4513 4517 4519 4523 4547 4549 4561 4567 4583 4591 4597 4603 4621 4637 4639 4643 4649 4651 4657 4663 4673 4679 4691 4703 4721 4723 4729 4733 4751 4759 4783 4787 4789 4793 4799 4801 4813 4817 4831 4861 4871 4877 4889 4903 4909 4919 4931 4933 4937 4943 4951 4957 4967 4969 4973 4987 4993 4999 5003 5009 5011 5021 5023 5039 5051 5059 5077 5081 5087 5099 5101 5107 5113 5119 5147 5153 5167 5171 5179 5189 5197 5209 5227 5231 5233 5237 5261 5273 5279 5281 5297 5303 5309 5323 5333 5347 5351 5381 5387 5393 5399 5407 5413 5417 5419 5431 5437 5441 5443 5449 5471 5477 5479 5483 5501 5503 5507 5519 5521 5527 5531 5557 5563 5569 5573 5581 5591 5623 5639 5641 5647 5651 5653 5657 5659 5669 5683 5689 5693 5701 5711 5717 5737 5741 5743 5749 5779 5783 5791 5801 5807 5813 5821 5827 5839 5843 5849 5851 5857 5861 5867 5869 5879 5881 5897 5903 5923 5927 5939 5953 5981 5987 6007 6011 6029 6037 6043 6047 6053 6067 6073 6079 6089 6091 6101 6113 6121 6131 6133 6143 6151 6163 6173 6197 6199 6203 6211 6217 6221 6229 6247 6257 6263 6269 6271 6277 6287 6299 6301 6311 6317 6323 6329 6337 6343 6353 6359 6361 6367 6373 6379 6389 6397 6421 6427 6449 6451 6469 6473 6481 6491 6521 6529 6547 6551 6553 6563 6569 6571 6577 6581 6599 6607 6619 6637 6653 6659 6661 6673 6679 6689 6691 6701 6703 6709 6719 6733 6737 6761 6763 6779 6781 6791 6793 6803 6823 6827 6829 6833 6841 6857 6863 6869 6871 6883 6899 6907 6911 6917 6947 6949 6959 6961 6967 6971 6977 6983 6991 6997 7001 7013 7019 7027 7039 7043 7057 7069 7079 7103 7109 7121 7127 7129 7151 7159 7177 7187 7193 7207 7211 7213 7219 7229 7237 7243 7247 7253 7283 7297 7307 7309 7321 7331 7333 7349 7351 7369 7393 7411 7417 7433 7451 7457 7459 7477 7481 7487 7489 7499 7507 7517 7523 7529 7537 7541 7547 7549 7559 7561 7573 7577 7583 7589 7591 7603 7607 7621 7639 7643 7649 7669 7673 7681 7687 7691 7699 7703 7717 7723 7727 7741 7753 7757 7759 7789 7793 7817 7823 7829 7841 7853 7867 7873 7877 7879 7883 7901 7907 7919 7927 7933 7937 7949 7951 7963 7993 8009 8011 8017 8039 8053 8059 8069 8081 8087 8089 8093 8101 8111 8117 8123 8147 8161 8167 8171 8179 8191 8209 8219 8221 8231 8233 8237 8243 8263 8269 8273 8287 8291 8293 8297 8311 8317 8329 8353 8363 8369 8377 8387 8389 8419 8423 8429 8431 8443 8447 8461 8467 8501 8513 8521 8527 8537 8539 8543 8563 8573 8581 8597 8599 8609 8623 8627 8629 8641 8647 8663 8669 8677 8681 8689 8693 8699 8707 8713 8719 8731 8737 8741 8747 8753 8761 8779 8783 8803 8807 8819 8821 8831 8837 8839 8849 8861 8863 8867 8887 8893 8923 8929 8933 8941 8951 8963 8969 8971 8999 9001 9007 9011 9013 9029 9041 9043 9049 9059 9067 9091 9103 9109 9127 9133 9137 9151 9157 9161 9173 9181 9187 9199 9203 9209 9221 9227 9239 9241 9257 9277 9281 9283 9293 9311 9319 9323 9337 9341 9343 9349 9371 9377 9391 9397 9403 9413 9419 9421 9431 9433 9437 9439 9461 9463 9467 9473 9479 9491 9497 9511 9521 9533 9539 9547 9551 9587 9601 9613 9619 9623 9629 9631 9643 9649 9661 9677 9679 9689 9697 9719 9721 9733 9739 9743 9749 9767 9769 9781 9787 9791 9803 9811 9817 9829 9833 9839 9851 9857 9859 9871 9883 9887 9901 9907 9923 9929 9931 9941 9949 9967 9973 "
     ]
    }
   ],
   "source": [
    "# num1 = int(input(\"Input a number: \"))\n",
    "# num2 = int(input(\"Input another number: \"))\n",
    "\n",
    "\n",
    "for x in range(1, 10001):\n",
    "    prime = True\n",
    "    for i in range(2,x):\n",
    "        if (x%i==0):\n",
    "            prime = False\n",
    "    if prime == True:\n",
    "        print(x, end = \" \")"
   ]
  },
  {
   "cell_type": "markdown",
   "id": "7eb7b181",
   "metadata": {},
   "source": [
    "# Task 6: \n",
    "Write a code that prints on screen all the 4-digit Armstrong numbers.\n"
   ]
  },
  {
   "cell_type": "code",
   "execution_count": 58,
   "id": "a6832e78",
   "metadata": {},
   "outputs": [
    {
     "name": "stdout",
     "output_type": "stream",
     "text": [
      "9474 is an Armstrong number\n"
     ]
    }
   ],
   "source": [
    "#Armstrong Number\n",
    "\n",
    "num = 9474\n",
    "order = len(str(num))\n",
    "\n",
    "sum = 0\n",
    "\n",
    "temp = num\n",
    "while temp > 0:\n",
    "    digit = temp % 10\n",
    "    sum += digit ** order\n",
    "    temp //= 10\n",
    "\n",
    "if num == sum:\n",
    "    print(num,\"is an Armstrong number\")\n",
    "else:\n",
    "    print(num,\"is not an Armstrong number\")\n"
   ]
  },
  {
   "cell_type": "markdown",
   "id": "4611e35f",
   "metadata": {},
   "source": [
    "# Task 7:\n",
    "Write a program that outputs 100 lines, numbered 1 to 100, each with your name on it. The\n",
    "output should look like the output below:"
   ]
  },
  {
   "cell_type": "code",
   "execution_count": 20,
   "id": "28f90ac3",
   "metadata": {},
   "outputs": [
    {
     "name": "stdout",
     "output_type": "stream",
     "text": [
      "1 Enter your Name\n",
      "2 Enter your Name\n",
      "3 Enter your Name\n",
      "4 Enter your Name\n",
      "5 Enter your Name\n",
      "6 Enter your Name\n",
      "7 Enter your Name\n",
      "8 Enter your Name\n",
      "9 Enter your Name\n",
      "10 Enter your Name\n",
      "11 Enter your Name\n",
      "12 Enter your Name\n",
      "13 Enter your Name\n",
      "14 Enter your Name\n",
      "15 Enter your Name\n",
      "16 Enter your Name\n",
      "17 Enter your Name\n",
      "18 Enter your Name\n",
      "19 Enter your Name\n",
      "20 Enter your Name\n",
      "21 Enter your Name\n",
      "22 Enter your Name\n",
      "23 Enter your Name\n",
      "24 Enter your Name\n",
      "25 Enter your Name\n",
      "26 Enter your Name\n",
      "27 Enter your Name\n",
      "28 Enter your Name\n",
      "29 Enter your Name\n",
      "30 Enter your Name\n",
      "31 Enter your Name\n",
      "32 Enter your Name\n",
      "33 Enter your Name\n",
      "34 Enter your Name\n",
      "35 Enter your Name\n",
      "36 Enter your Name\n",
      "37 Enter your Name\n",
      "38 Enter your Name\n",
      "39 Enter your Name\n",
      "40 Enter your Name\n",
      "41 Enter your Name\n",
      "42 Enter your Name\n",
      "43 Enter your Name\n",
      "44 Enter your Name\n",
      "45 Enter your Name\n",
      "46 Enter your Name\n",
      "47 Enter your Name\n",
      "48 Enter your Name\n",
      "49 Enter your Name\n",
      "50 Enter your Name\n",
      "51 Enter your Name\n",
      "52 Enter your Name\n",
      "53 Enter your Name\n",
      "54 Enter your Name\n",
      "55 Enter your Name\n",
      "56 Enter your Name\n",
      "57 Enter your Name\n",
      "58 Enter your Name\n",
      "59 Enter your Name\n",
      "60 Enter your Name\n",
      "61 Enter your Name\n",
      "62 Enter your Name\n",
      "63 Enter your Name\n",
      "64 Enter your Name\n",
      "65 Enter your Name\n",
      "66 Enter your Name\n",
      "67 Enter your Name\n",
      "68 Enter your Name\n",
      "69 Enter your Name\n",
      "70 Enter your Name\n",
      "71 Enter your Name\n",
      "72 Enter your Name\n",
      "73 Enter your Name\n",
      "74 Enter your Name\n",
      "75 Enter your Name\n",
      "76 Enter your Name\n",
      "77 Enter your Name\n",
      "78 Enter your Name\n",
      "79 Enter your Name\n",
      "80 Enter your Name\n",
      "81 Enter your Name\n",
      "82 Enter your Name\n",
      "83 Enter your Name\n",
      "84 Enter your Name\n",
      "85 Enter your Name\n",
      "86 Enter your Name\n",
      "87 Enter your Name\n",
      "88 Enter your Name\n",
      "89 Enter your Name\n",
      "90 Enter your Name\n",
      "91 Enter your Name\n",
      "92 Enter your Name\n",
      "93 Enter your Name\n",
      "94 Enter your Name\n",
      "95 Enter your Name\n",
      "96 Enter your Name\n",
      "97 Enter your Name\n",
      "98 Enter your Name\n",
      "99 Enter your Name\n",
      "100 Enter your Name\n"
     ]
    }
   ],
   "source": [
    "#Q7\n",
    "for i in range(100):\n",
    "    print(i+1, \"Enter your Name\")"
   ]
  },
  {
   "cell_type": "markdown",
   "id": "80718f5e",
   "metadata": {},
   "source": [
    "# Task 8:\n",
    "Write a program that prints out a list of the integers from 1 to 20 and their squares. The\n",
    "output should look like this:"
   ]
  },
  {
   "cell_type": "code",
   "execution_count": 21,
   "id": "fb2b30be",
   "metadata": {},
   "outputs": [
    {
     "name": "stdout",
     "output_type": "stream",
     "text": [
      "1 --- 1\n",
      "2 --- 4\n",
      "3 --- 9\n",
      "4 --- 16\n",
      "5 --- 25\n",
      "6 --- 36\n",
      "7 --- 49\n",
      "8 --- 64\n",
      "9 --- 81\n",
      "10 --- 100\n",
      "11 --- 121\n",
      "12 --- 144\n",
      "13 --- 169\n",
      "14 --- 196\n",
      "15 --- 225\n",
      "16 --- 256\n",
      "17 --- 289\n",
      "18 --- 324\n",
      "19 --- 361\n",
      "20 --- 400\n"
     ]
    }
   ],
   "source": [
    "for i in range(1 , 21):\n",
    "    print(i ,\"---\", i**2)"
   ]
  },
  {
   "cell_type": "markdown",
   "id": "8e988a72",
   "metadata": {},
   "source": [
    "\n",
    "# Task 9: \n",
    "Write a program that uses a for loop to print the numbers 8, 11, 14, 17, 20, . . . , 83, 86, 89.\n"
   ]
  },
  {
   "cell_type": "code",
   "execution_count": 35,
   "id": "50e5f07f",
   "metadata": {},
   "outputs": [
    {
     "name": "stdout",
     "output_type": "stream",
     "text": [
      "8 11 14 17 20 23 26 29 32 35 38 41 44 47 50 53 56 59 62 65 68 71 74 77 80 83 86 "
     ]
    }
   ],
   "source": [
    "for i in range(8,89,3):\n",
    "    print(i, end=\" \")"
   ]
  },
  {
   "cell_type": "markdown",
   "id": "6d2f24c4",
   "metadata": {},
   "source": [
    "# Task 10:\n",
    "Write a program that asks the user for their name and how many times to print it. The\n",
    "program should print out the user’s name the specified number of times."
   ]
  },
  {
   "cell_type": "code",
   "execution_count": null,
   "id": "3073666a",
   "metadata": {},
   "outputs": [],
   "source": [
    "name = str(input(\"Enter your name: \"))\n",
    "n = int(input(\"How many time you wanna print your name? \"))\n",
    "\n",
    "for i in range(n):\n",
    "    print(f\"{i+1} My name is {name}\")"
   ]
  },
  {
   "cell_type": "markdown",
   "id": "edd5e69e",
   "metadata": {},
   "source": [
    "# Task 11: \n",
    "    Use a for loop to print a box like the one below. Allow the user to specify how wide and\n",
    "how high the box should be."
   ]
  },
  {
   "cell_type": "code",
   "execution_count": 14,
   "id": "78f670cd",
   "metadata": {},
   "outputs": [
    {
     "name": "stdout",
     "output_type": "stream",
     "text": [
      "Enter length size of rectangle: 5\n",
      "Enter width size of rectangle: 2\n",
      "* * * * * \n",
      "* * * * * \n"
     ]
    }
   ],
   "source": [
    "#  Q#11\n",
    "leng = int(input(\"Enter length size of rectangle: \"))\n",
    "wid = int(input(\"Enter width size of rectangle: \"))\n",
    "\n",
    "for i in range(wid):\n",
    "    for j in range(leng):\n",
    "        print(\"* \" , end = \"\")\n",
    "    print()"
   ]
  },
  {
   "cell_type": "markdown",
   "id": "27654e54",
   "metadata": {},
   "source": [
    "# Task 12: \n",
    "Use a for loop to print a triangle like the one below. Allow the user to specify how high the\n",
    "triangle should be.\n"
   ]
  },
  {
   "cell_type": "code",
   "execution_count": 10,
   "id": "2a4dbfc6",
   "metadata": {},
   "outputs": [
    {
     "name": "stdout",
     "output_type": "stream",
     "text": [
      "Enter size of triangle: 5\n",
      "*\n",
      "**\n",
      "***\n",
      "****\n",
      "*****\n"
     ]
    }
   ],
   "source": [
    "#  Q#12\n",
    "\n",
    "n = int(input(\"Enter size of triangle: \"))\n",
    "for i in range(n):\n",
    "    for j in range(i+1):\n",
    "        print(\"*\" , end = \"\")\n",
    "    print()"
   ]
  },
  {
   "cell_type": "markdown",
   "id": "8640736a",
   "metadata": {},
   "source": [
    "# Task 13:\n",
    "Use for loops to print a diamond like the one below. Allow the user to specify how high the\n",
    "diamond should be."
   ]
  },
  {
   "cell_type": "code",
   "execution_count": 24,
   "id": "42d808dc",
   "metadata": {},
   "outputs": [
    {
     "name": "stdout",
     "output_type": "stream",
     "text": [
      "Enter size of diamond: 10\n",
      "         *\n",
      "        ***\n",
      "       *****\n",
      "      *******\n",
      "     *********\n",
      "    ***********\n",
      "   *************\n",
      "  ***************\n",
      " *****************\n",
      "*******************\n",
      " *****************\n",
      "  ***************\n",
      "   *************\n",
      "    ***********\n",
      "     *********\n",
      "      *******\n",
      "       *****\n",
      "        ***\n",
      "         *\n"
     ]
    }
   ],
   "source": [
    "rows = int(input(\"Enter size of diamond: \"))\n",
    "\n",
    "for i in range(rows):\n",
    "    for j in range(rows - i - 1):\n",
    "        print(\" \", end=\"\")\n",
    "    for j in range(2 * i + 1):\n",
    "        print(\"*\", end=\"\")\n",
    "    print()\n",
    "\n",
    "for i in range(rows - 2, -1, -1):\n",
    "    for j in range(rows - i - 1):\n",
    "        print(\" \", end=\"\")\n",
    "    for j in range(2 * i + 1):\n",
    "        print(\"*\", end=\"\")\n",
    "    print()"
   ]
  },
  {
   "cell_type": "markdown",
   "id": "3a0bfc3f",
   "metadata": {},
   "source": [
    "# Task 14:\n",
    "Write a program that prints a giant letter A like the one below. Allow the user to specify\n",
    "how large the letter should be."
   ]
  },
  {
   "cell_type": "code",
   "execution_count": 30,
   "id": "bd83088a",
   "metadata": {},
   "outputs": [
    {
     "name": "stdout",
     "output_type": "stream",
     "text": [
      "Enter a number that is size of A. 15\n",
      "              *\n",
      "             * *\n",
      "            *   *\n",
      "           *     *\n",
      "          *       *\n",
      "         *         *\n",
      "        *           *\n",
      "       ***************\n",
      "      *               *\n",
      "     *                 *\n",
      "    *                   *\n",
      "   *                     *\n",
      "  *                       *\n",
      " *                         *\n",
      "*                           *\n"
     ]
    }
   ],
   "source": [
    "rows = int(input(\"Enter a number that is size of A. \"))\n",
    "\n",
    "for i in range(rows):\n",
    "    for j in range(rows - i - 1):\n",
    "        print(\" \", end=\"\")\n",
    "    for j in range(2 * i + 1):\n",
    "        if i == rows//2 or j == 0 or j == 2 * i:\n",
    "            print(\"*\", end=\"\")\n",
    "        else:\n",
    "            print(\" \", end=\"\")\n",
    "    print()"
   ]
  },
  {
   "cell_type": "code",
   "execution_count": null,
   "id": "e1d54e03",
   "metadata": {},
   "outputs": [],
   "source": []
  }
 ],
 "metadata": {
  "kernelspec": {
   "display_name": "Python 3 (ipykernel)",
   "language": "python",
   "name": "python3"
  },
  "language_info": {
   "codemirror_mode": {
    "name": "ipython",
    "version": 3
   },
   "file_extension": ".py",
   "mimetype": "text/x-python",
   "name": "python",
   "nbconvert_exporter": "python",
   "pygments_lexer": "ipython3",
   "version": "3.10.9"
  }
 },
 "nbformat": 4,
 "nbformat_minor": 5
}
