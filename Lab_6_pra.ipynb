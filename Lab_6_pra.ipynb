{
 "cells": [
  {
   "cell_type": "code",
   "execution_count": 1,
   "id": "a78573a0",
   "metadata": {},
   "outputs": [],
   "source": [
    "class Car:\n",
    "    def __init__(self, color, shape, model):\n",
    "        self.color = color\n",
    "        self.shape = shape\n",
    "        self.model = model"
   ]
  },
  {
   "cell_type": "code",
   "execution_count": null,
   "id": "b258a66e",
   "metadata": {},
   "outputs": [],
   "source": [
    "Ali_car = Car(\"blur\", \"like a truck\", \"honda 2023\")"
   ]
  },
  {
   "cell_type": "code",
   "execution_count": null,
   "id": "9e21dc4f",
   "metadata": {},
   "outputs": [],
   "source": [
    "class Laptop:\n",
    "    def __init__(self, color, model, shape, brand):\n",
    "        self.color = color\n",
    "        self.model = model\n",
    "        self.\n",
    "        "
   ]
  },
  {
   "cell_type": "code",
   "execution_count": 23,
   "id": "0680f867",
   "metadata": {},
   "outputs": [
    {
     "name": "stdout",
     "output_type": "stream",
     "text": [
      "Area = 200\n",
      "parameter =  60\n"
     ]
    }
   ],
   "source": [
    "class Rectangle:\n",
    "    def __init__(self, length, width):\n",
    "        self.rec_len  = length\n",
    "        self.rec_wid = width\n",
    "        \n",
    "    def area(self):\n",
    "#         area= self.lenght*self.width\n",
    "        print(\"Area =\", self.rec_len * self.rec_wid )\n",
    "        \n",
    "    def parameter(self):\n",
    "#         parameter = 2*(self.length+self.width)\n",
    "        print(\"parameter = \", 2*(self.rec_len+self.rec_wid))\n",
    "        \n",
    "val= Rectangle(10, 20)\n",
    "val.area()\n",
    "val.parameter()"
   ]
  },
  {
   "cell_type": "code",
   "execution_count": null,
   "id": "e14a2712",
   "metadata": {},
   "outputs": [],
   "source": [
    "class Animal:\n",
    "    def __init__(self, name):\n",
    "        print(\"Animal make sound\")\n",
    "        \n",
    "    def dog(self):\n",
    "        \n",
    "    def cat(self):\n",
    "        \n",
    "    def bird(self):"
   ]
  },
  {
   "cell_type": "code",
   "execution_count": null,
   "id": "fb02872f",
   "metadata": {},
   "outputs": [],
   "source": []
  }
 ],
 "metadata": {
  "kernelspec": {
   "display_name": "Python 3 (ipykernel)",
   "language": "python",
   "name": "python3"
  },
  "language_info": {
   "codemirror_mode": {
    "name": "ipython",
    "version": 3
   },
   "file_extension": ".py",
   "mimetype": "text/x-python",
   "name": "python",
   "nbconvert_exporter": "python",
   "pygments_lexer": "ipython3",
   "version": "3.10.9"
  }
 },
 "nbformat": 4,
 "nbformat_minor": 5
}
